{
 "cells": [
  {
   "cell_type": "markdown",
   "id": "8727e523-bbe8-49f5-b208-37d67e35408f",
   "metadata": {},
   "source": [
    "# Credit Card Fraud Detection using Deep Learning"
   ]
  },
  {
   "cell_type": "markdown",
   "id": "aeff8389-bf76-4b9c-a978-21e10b0701d7",
   "metadata": {},
   "source": [
    "## Introduction"
   ]
  },
  {
   "cell_type": "markdown",
   "id": "5931289b-4424-47d7-9fac-30976f886273",
   "metadata": {},
   "source": [
    "### Relevant Background Information"
   ]
  },
  {
   "cell_type": "markdown",
   "id": "3e032d5f-2b10-4ec1-98bf-2444878b6610",
   "metadata": {},
   "source": [
    "Detecting credit card fraud, where fake card numbers are used, is a critical challenge for financial institutions and merchants. In this context, fake card numbers typically refer to numbers that do not correspond to valid credit cards issued by any legitimate financial institution. Detecting such fraudulent transactions involves a combination of data analysis, pattern recognition, and deep learning techniques. Creating a Artificial Neural Network is one of the many tools available to create a model for detecting this type of credit card fraud. "
   ]
  },
  {
   "cell_type": "markdown",
   "id": "5445b257-7d4b-4e19-aa5f-281471aed05e",
   "metadata": {},
   "source": [
    "### Predictive Question"
   ]
  },
  {
   "cell_type": "markdown",
   "id": "3f182e5c-4906-48ab-bc0d-bebafcb4f3a7",
   "metadata": {},
   "source": [
    "Can I use Deep Learning to classify a credit card number as fraud or legitimate?"
   ]
  },
  {
   "cell_type": "markdown",
   "id": "bbaacabe-8723-47c6-8e59-a43d5e2020ba",
   "metadata": {},
   "source": [
    "### Dataset"
   ]
  },
  {
   "cell_type": "markdown",
   "id": "c66d53fd-be34-4758-a7b9-f84f6d2c06d5",
   "metadata": {},
   "source": [
    "The dataset used in this project comes from: https://www.kaggle.com/datasets/mlg-ulb/creditcardfraud\n",
    "\n",
    "The dataset has been collected and analysed during a research collaboration of Worldline and the Machine Learning Group (http://mlg.ulb.ac.be) of ULB (Université Libre de Bruxelles) on big data mining and fraud detection."
   ]
  },
  {
   "cell_type": "markdown",
   "id": "26df4263-77e2-4e78-92d5-2e12afa2f668",
   "metadata": {},
   "source": [
    "## Data Analysis"
   ]
  },
  {
   "cell_type": "markdown",
   "id": "f2187481-df9e-405d-90c8-b48142242aee",
   "metadata": {},
   "source": [
    "### Gather Data"
   ]
  },
  {
   "cell_type": "markdown",
   "id": "578a1622-8b10-4a03-892a-b0350e8b0cbb",
   "metadata": {},
   "source": [
    "Load the dataset to a Pandas DataFrame"
   ]
  },
  {
   "cell_type": "code",
   "execution_count": 1,
   "id": "e5732916-6555-4b74-9336-e3d0138cb5ea",
   "metadata": {},
   "outputs": [],
   "source": [
    "import pandas as pd"
   ]
  },
  {
   "cell_type": "code",
   "execution_count": 2,
   "id": "3a343c84-9ebd-4bfa-bb40-8422e47bfaeb",
   "metadata": {},
   "outputs": [
    {
     "data": {
      "text/html": [
       "<div>\n",
       "<style scoped>\n",
       "    .dataframe tbody tr th:only-of-type {\n",
       "        vertical-align: middle;\n",
       "    }\n",
       "\n",
       "    .dataframe tbody tr th {\n",
       "        vertical-align: top;\n",
       "    }\n",
       "\n",
       "    .dataframe thead th {\n",
       "        text-align: right;\n",
       "    }\n",
       "</style>\n",
       "<table border=\"1\" class=\"dataframe\">\n",
       "  <thead>\n",
       "    <tr style=\"text-align: right;\">\n",
       "      <th></th>\n",
       "      <th>Time</th>\n",
       "      <th>V1</th>\n",
       "      <th>V2</th>\n",
       "      <th>V3</th>\n",
       "      <th>V4</th>\n",
       "      <th>V5</th>\n",
       "      <th>V6</th>\n",
       "      <th>V7</th>\n",
       "      <th>V8</th>\n",
       "      <th>V9</th>\n",
       "      <th>...</th>\n",
       "      <th>V21</th>\n",
       "      <th>V22</th>\n",
       "      <th>V23</th>\n",
       "      <th>V24</th>\n",
       "      <th>V25</th>\n",
       "      <th>V26</th>\n",
       "      <th>V27</th>\n",
       "      <th>V28</th>\n",
       "      <th>Amount</th>\n",
       "      <th>Class</th>\n",
       "    </tr>\n",
       "  </thead>\n",
       "  <tbody>\n",
       "    <tr>\n",
       "      <th>0</th>\n",
       "      <td>0.0</td>\n",
       "      <td>-1.359807</td>\n",
       "      <td>-0.072781</td>\n",
       "      <td>2.536347</td>\n",
       "      <td>1.378155</td>\n",
       "      <td>-0.338321</td>\n",
       "      <td>0.462388</td>\n",
       "      <td>0.239599</td>\n",
       "      <td>0.098698</td>\n",
       "      <td>0.363787</td>\n",
       "      <td>...</td>\n",
       "      <td>-0.018307</td>\n",
       "      <td>0.277838</td>\n",
       "      <td>-0.110474</td>\n",
       "      <td>0.066928</td>\n",
       "      <td>0.128539</td>\n",
       "      <td>-0.189115</td>\n",
       "      <td>0.133558</td>\n",
       "      <td>-0.021053</td>\n",
       "      <td>149.62</td>\n",
       "      <td>0</td>\n",
       "    </tr>\n",
       "    <tr>\n",
       "      <th>1</th>\n",
       "      <td>0.0</td>\n",
       "      <td>1.191857</td>\n",
       "      <td>0.266151</td>\n",
       "      <td>0.166480</td>\n",
       "      <td>0.448154</td>\n",
       "      <td>0.060018</td>\n",
       "      <td>-0.082361</td>\n",
       "      <td>-0.078803</td>\n",
       "      <td>0.085102</td>\n",
       "      <td>-0.255425</td>\n",
       "      <td>...</td>\n",
       "      <td>-0.225775</td>\n",
       "      <td>-0.638672</td>\n",
       "      <td>0.101288</td>\n",
       "      <td>-0.339846</td>\n",
       "      <td>0.167170</td>\n",
       "      <td>0.125895</td>\n",
       "      <td>-0.008983</td>\n",
       "      <td>0.014724</td>\n",
       "      <td>2.69</td>\n",
       "      <td>0</td>\n",
       "    </tr>\n",
       "    <tr>\n",
       "      <th>2</th>\n",
       "      <td>1.0</td>\n",
       "      <td>-1.358354</td>\n",
       "      <td>-1.340163</td>\n",
       "      <td>1.773209</td>\n",
       "      <td>0.379780</td>\n",
       "      <td>-0.503198</td>\n",
       "      <td>1.800499</td>\n",
       "      <td>0.791461</td>\n",
       "      <td>0.247676</td>\n",
       "      <td>-1.514654</td>\n",
       "      <td>...</td>\n",
       "      <td>0.247998</td>\n",
       "      <td>0.771679</td>\n",
       "      <td>0.909412</td>\n",
       "      <td>-0.689281</td>\n",
       "      <td>-0.327642</td>\n",
       "      <td>-0.139097</td>\n",
       "      <td>-0.055353</td>\n",
       "      <td>-0.059752</td>\n",
       "      <td>378.66</td>\n",
       "      <td>0</td>\n",
       "    </tr>\n",
       "    <tr>\n",
       "      <th>3</th>\n",
       "      <td>1.0</td>\n",
       "      <td>-0.966272</td>\n",
       "      <td>-0.185226</td>\n",
       "      <td>1.792993</td>\n",
       "      <td>-0.863291</td>\n",
       "      <td>-0.010309</td>\n",
       "      <td>1.247203</td>\n",
       "      <td>0.237609</td>\n",
       "      <td>0.377436</td>\n",
       "      <td>-1.387024</td>\n",
       "      <td>...</td>\n",
       "      <td>-0.108300</td>\n",
       "      <td>0.005274</td>\n",
       "      <td>-0.190321</td>\n",
       "      <td>-1.175575</td>\n",
       "      <td>0.647376</td>\n",
       "      <td>-0.221929</td>\n",
       "      <td>0.062723</td>\n",
       "      <td>0.061458</td>\n",
       "      <td>123.50</td>\n",
       "      <td>0</td>\n",
       "    </tr>\n",
       "    <tr>\n",
       "      <th>4</th>\n",
       "      <td>2.0</td>\n",
       "      <td>-1.158233</td>\n",
       "      <td>0.877737</td>\n",
       "      <td>1.548718</td>\n",
       "      <td>0.403034</td>\n",
       "      <td>-0.407193</td>\n",
       "      <td>0.095921</td>\n",
       "      <td>0.592941</td>\n",
       "      <td>-0.270533</td>\n",
       "      <td>0.817739</td>\n",
       "      <td>...</td>\n",
       "      <td>-0.009431</td>\n",
       "      <td>0.798278</td>\n",
       "      <td>-0.137458</td>\n",
       "      <td>0.141267</td>\n",
       "      <td>-0.206010</td>\n",
       "      <td>0.502292</td>\n",
       "      <td>0.219422</td>\n",
       "      <td>0.215153</td>\n",
       "      <td>69.99</td>\n",
       "      <td>0</td>\n",
       "    </tr>\n",
       "  </tbody>\n",
       "</table>\n",
       "<p>5 rows × 31 columns</p>\n",
       "</div>"
      ],
      "text/plain": [
       "   Time        V1        V2        V3        V4        V5        V6        V7  \\\n",
       "0   0.0 -1.359807 -0.072781  2.536347  1.378155 -0.338321  0.462388  0.239599   \n",
       "1   0.0  1.191857  0.266151  0.166480  0.448154  0.060018 -0.082361 -0.078803   \n",
       "2   1.0 -1.358354 -1.340163  1.773209  0.379780 -0.503198  1.800499  0.791461   \n",
       "3   1.0 -0.966272 -0.185226  1.792993 -0.863291 -0.010309  1.247203  0.237609   \n",
       "4   2.0 -1.158233  0.877737  1.548718  0.403034 -0.407193  0.095921  0.592941   \n",
       "\n",
       "         V8        V9  ...       V21       V22       V23       V24       V25  \\\n",
       "0  0.098698  0.363787  ... -0.018307  0.277838 -0.110474  0.066928  0.128539   \n",
       "1  0.085102 -0.255425  ... -0.225775 -0.638672  0.101288 -0.339846  0.167170   \n",
       "2  0.247676 -1.514654  ...  0.247998  0.771679  0.909412 -0.689281 -0.327642   \n",
       "3  0.377436 -1.387024  ... -0.108300  0.005274 -0.190321 -1.175575  0.647376   \n",
       "4 -0.270533  0.817739  ... -0.009431  0.798278 -0.137458  0.141267 -0.206010   \n",
       "\n",
       "        V26       V27       V28  Amount  Class  \n",
       "0 -0.189115  0.133558 -0.021053  149.62      0  \n",
       "1  0.125895 -0.008983  0.014724    2.69      0  \n",
       "2 -0.139097 -0.055353 -0.059752  378.66      0  \n",
       "3 -0.221929  0.062723  0.061458  123.50      0  \n",
       "4  0.502292  0.219422  0.215153   69.99      0  \n",
       "\n",
       "[5 rows x 31 columns]"
      ]
     },
     "execution_count": 2,
     "metadata": {},
     "output_type": "execute_result"
    }
   ],
   "source": [
    "credit_card_data = pd.read_csv('data/creditcard.csv')\n",
    "credit_card_data.head()"
   ]
  },
  {
   "cell_type": "markdown",
   "id": "f219d374-c45c-4111-be47-6b8f993cae23",
   "metadata": {},
   "source": [
    "### Data Analysis"
   ]
  },
  {
   "cell_type": "markdown",
   "id": "a204660f-c834-40fa-b694-fd2c03713362",
   "metadata": {},
   "source": [
    "Dataset Information"
   ]
  },
  {
   "cell_type": "code",
   "execution_count": 3,
   "id": "def87233-8a87-4501-8098-60f3ce3bad51",
   "metadata": {},
   "outputs": [
    {
     "name": "stdout",
     "output_type": "stream",
     "text": [
      "<class 'pandas.core.frame.DataFrame'>\n",
      "RangeIndex: 284807 entries, 0 to 284806\n",
      "Data columns (total 31 columns):\n",
      " #   Column  Non-Null Count   Dtype  \n",
      "---  ------  --------------   -----  \n",
      " 0   Time    284807 non-null  float64\n",
      " 1   V1      284807 non-null  float64\n",
      " 2   V2      284807 non-null  float64\n",
      " 3   V3      284807 non-null  float64\n",
      " 4   V4      284807 non-null  float64\n",
      " 5   V5      284807 non-null  float64\n",
      " 6   V6      284807 non-null  float64\n",
      " 7   V7      284807 non-null  float64\n",
      " 8   V8      284807 non-null  float64\n",
      " 9   V9      284807 non-null  float64\n",
      " 10  V10     284807 non-null  float64\n",
      " 11  V11     284807 non-null  float64\n",
      " 12  V12     284807 non-null  float64\n",
      " 13  V13     284807 non-null  float64\n",
      " 14  V14     284807 non-null  float64\n",
      " 15  V15     284807 non-null  float64\n",
      " 16  V16     284807 non-null  float64\n",
      " 17  V17     284807 non-null  float64\n",
      " 18  V18     284807 non-null  float64\n",
      " 19  V19     284807 non-null  float64\n",
      " 20  V20     284807 non-null  float64\n",
      " 21  V21     284807 non-null  float64\n",
      " 22  V22     284807 non-null  float64\n",
      " 23  V23     284807 non-null  float64\n",
      " 24  V24     284807 non-null  float64\n",
      " 25  V25     284807 non-null  float64\n",
      " 26  V26     284807 non-null  float64\n",
      " 27  V27     284807 non-null  float64\n",
      " 28  V28     284807 non-null  float64\n",
      " 29  Amount  284807 non-null  float64\n",
      " 30  Class   284807 non-null  int64  \n",
      "dtypes: float64(30), int64(1)\n",
      "memory usage: 67.4 MB\n"
     ]
    }
   ],
   "source": [
    "credit_card_data.info()"
   ]
  },
  {
   "cell_type": "markdown",
   "id": "2d58d782-d30c-4a5b-815e-526b54caa44b",
   "metadata": {},
   "source": [
    "Checking the number of missing values in each column"
   ]
  },
  {
   "cell_type": "code",
   "execution_count": 4,
   "id": "5759df46-505f-4f31-9e96-caac4ceb0470",
   "metadata": {},
   "outputs": [
    {
     "data": {
      "text/plain": [
       "Time      0\n",
       "V1        0\n",
       "V2        0\n",
       "V3        0\n",
       "V4        0\n",
       "V5        0\n",
       "V6        0\n",
       "V7        0\n",
       "V8        0\n",
       "V9        0\n",
       "V10       0\n",
       "V11       0\n",
       "V12       0\n",
       "V13       0\n",
       "V14       0\n",
       "V15       0\n",
       "V16       0\n",
       "V17       0\n",
       "V18       0\n",
       "V19       0\n",
       "V20       0\n",
       "V21       0\n",
       "V22       0\n",
       "V23       0\n",
       "V24       0\n",
       "V25       0\n",
       "V26       0\n",
       "V27       0\n",
       "V28       0\n",
       "Amount    0\n",
       "Class     0\n",
       "dtype: int64"
      ]
     },
     "execution_count": 4,
     "metadata": {},
     "output_type": "execute_result"
    }
   ],
   "source": [
    "credit_card_data.isnull().sum()"
   ]
  },
  {
   "cell_type": "markdown",
   "id": "bff4dba4-720f-4cfa-b533-775c222f6527",
   "metadata": {},
   "source": [
    "Distribution of legit transactions & fraudulent transactions"
   ]
  },
  {
   "cell_type": "code",
   "execution_count": 5,
   "id": "3cbd4e8b-405b-4894-b0c4-44625e09ae70",
   "metadata": {},
   "outputs": [
    {
     "data": {
      "text/plain": [
       "Class\n",
       "0    284315\n",
       "1       492\n",
       "Name: count, dtype: int64"
      ]
     },
     "execution_count": 5,
     "metadata": {},
     "output_type": "execute_result"
    }
   ],
   "source": [
    "credit_card_data['Class'].value_counts()"
   ]
  },
  {
   "cell_type": "code",
   "execution_count": 6,
   "id": "6f051098-39be-4229-82a1-5a5ffec0ce83",
   "metadata": {},
   "outputs": [
    {
     "data": {
      "text/plain": [
       "<Axes: xlabel='Class'>"
      ]
     },
     "execution_count": 6,
     "metadata": {},
     "output_type": "execute_result"
    },
    {
     "data": {
      "image/png": "[encoded data removed]",
      "text/plain": [
       "<Figure size 640x480 with 1 Axes>"
      ]
     },
     "metadata": {},
     "output_type": "display_data"
    }
   ],
   "source": [
    "pd.Series(credit_card_data['Class']).value_counts().plot.bar()"
   ]
  },
  {
   "cell_type": "markdown",
   "id": "9c63a0cb-701a-44f9-9946-2fa61560f953",
   "metadata": {},
   "source": [
    "#### Conclusion"
   ]
  },
  {
   "cell_type": "markdown",
   "id": "48614142-241a-454c-a751-f0622a7d4142",
   "metadata": {},
   "source": [
    "The dataset is highly imbalanced:\n",
    "- 0: Normal Transaction\n",
    "- 1: Fraudulent Transaction"
   ]
  },
  {
   "cell_type": "markdown",
   "id": "e976c8f1-b512-45d2-b6fc-f3bbec7332df",
   "metadata": {},
   "source": [
    "## Methods"
   ]
  },
  {
   "cell_type": "markdown",
   "id": "9345c7fb-4ddb-41cb-9f6e-266567a02410",
   "metadata": {},
   "source": [
    "We will start by preparing the data to be used in the model. Then, we will create an ANN which will identify whether it is a legitimate or fraudulent credit card."
   ]
  },
  {
   "cell_type": "markdown",
   "id": "5e4f0cf4-e7e0-4e2a-a35b-11ec5939a0c0",
   "metadata": {},
   "source": [
    "### Splitting the data into Features & Targets"
   ]
  },
  {
   "cell_type": "code",
   "execution_count": 7,
   "id": "5c467a58-9fc8-45a0-b7bc-dab3d42d1c63",
   "metadata": {},
   "outputs": [],
   "source": [
    "X = credit_card_data.drop(columns='Class', axis=1)\n",
    "Y = credit_card_data['Class']"
   ]
  },
  {
   "cell_type": "code",
   "execution_count": 8,
   "id": "a34a58d5-e4d0-4a72-8ee5-fe65382da766",
   "metadata": {},
   "outputs": [
    {
     "name": "stdout",
     "output_type": "stream",
     "text": [
      "            Time         V1         V2        V3        V4        V5  \\\n",
      "0            0.0  -1.359807  -0.072781  2.536347  1.378155 -0.338321   \n",
      "1            0.0   1.191857   0.266151  0.166480  0.448154  0.060018   \n",
      "2            1.0  -1.358354  -1.340163  1.773209  0.379780 -0.503198   \n",
      "3            1.0  -0.966272  -0.185226  1.792993 -0.863291 -0.010309   \n",
      "4            2.0  -1.158233   0.877737  1.548718  0.403034 -0.407193   \n",
      "...          ...        ...        ...       ...       ...       ...   \n",
      "284802  172786.0 -11.881118  10.071785 -9.834783 -2.066656 -5.364473   \n",
      "284803  172787.0  -0.732789  -0.055080  2.035030 -0.738589  0.868229   \n",
      "284804  172788.0   1.919565  -0.301254 -3.249640 -0.557828  2.630515   \n",
      "284805  172788.0  -0.240440   0.530483  0.702510  0.689799 -0.377961   \n",
      "284806  172792.0  -0.533413  -0.189733  0.703337 -0.506271 -0.012546   \n",
      "\n",
      "              V6        V7        V8        V9  ...       V20       V21  \\\n",
      "0       0.462388  0.239599  0.098698  0.363787  ...  0.251412 -0.018307   \n",
      "1      -0.082361 -0.078803  0.085102 -0.255425  ... -0.069083 -0.225775   \n",
      "2       1.800499  0.791461  0.247676 -1.514654  ...  0.524980  0.247998   \n",
      "3       1.247203  0.237609  0.377436 -1.387024  ... -0.208038 -0.108300   \n",
      "4       0.095921  0.592941 -0.270533  0.817739  ...  0.408542 -0.009431   \n",
      "...          ...       ...       ...       ...  ...       ...       ...   \n",
      "284802 -2.606837 -4.918215  7.305334  1.914428  ...  1.475829  0.213454   \n",
      "284803  1.058415  0.024330  0.294869  0.584800  ...  0.059616  0.214205   \n",
      "284804  3.031260 -0.296827  0.708417  0.432454  ...  0.001396  0.232045   \n",
      "284805  0.623708 -0.686180  0.679145  0.392087  ...  0.127434  0.265245   \n",
      "284806 -0.649617  1.577006 -0.414650  0.486180  ...  0.382948  0.261057   \n",
      "\n",
      "             V22       V23       V24       V25       V26       V27       V28  \\\n",
      "0       0.277838 -0.110474  0.066928  0.128539 -0.189115  0.133558 -0.021053   \n",
      "1      -0.638672  0.101288 -0.339846  0.167170  0.125895 -0.008983  0.014724   \n",
      "2       0.771679  0.909412 -0.689281 -0.327642 -0.139097 -0.055353 -0.059752   \n",
      "3       0.005274 -0.190321 -1.175575  0.647376 -0.221929  0.062723  0.061458   \n",
      "4       0.798278 -0.137458  0.141267 -0.206010  0.502292  0.219422  0.215153   \n",
      "...          ...       ...       ...       ...       ...       ...       ...   \n",
      "284802  0.111864  1.014480 -0.509348  1.436807  0.250034  0.943651  0.823731   \n",
      "284803  0.924384  0.012463 -1.016226 -0.606624 -0.395255  0.068472 -0.053527   \n",
      "284804  0.578229 -0.037501  0.640134  0.265745 -0.087371  0.004455 -0.026561   \n",
      "284805  0.800049 -0.163298  0.123205 -0.569159  0.546668  0.108821  0.104533   \n",
      "284806  0.643078  0.376777  0.008797 -0.473649 -0.818267 -0.002415  0.013649   \n",
      "\n",
      "        Amount  \n",
      "0       149.62  \n",
      "1         2.69  \n",
      "2       378.66  \n",
      "3       123.50  \n",
      "4        69.99  \n",
      "...        ...  \n",
      "284802    0.77  \n",
      "284803   24.79  \n",
      "284804   67.88  \n",
      "284805   10.00  \n",
      "284806  217.00  \n",
      "\n",
      "[284807 rows x 30 columns]\n"
     ]
    }
   ],
   "source": [
    "print(X)"
   ]
  },
  {
   "cell_type": "code",
   "execution_count": 9,
   "id": "dab8e571-23a1-4b81-b657-1ba13b3316c9",
   "metadata": {},
   "outputs": [
    {
     "name": "stdout",
     "output_type": "stream",
     "text": [
      "0         0\n",
      "1         0\n",
      "2         0\n",
      "3         0\n",
      "4         0\n",
      "         ..\n",
      "284802    0\n",
      "284803    0\n",
      "284804    0\n",
      "284805    0\n",
      "284806    0\n",
      "Name: Class, Length: 284807, dtype: int64\n"
     ]
    }
   ],
   "source": [
    "print(Y)"
   ]
  },
  {
   "cell_type": "markdown",
   "id": "5c02b6af-aabe-451e-b122-b00b956b4fd0",
   "metadata": {},
   "source": [
    "### Splitting the data into Testing and Training Data"
   ]
  },
  {
   "cell_type": "code",
   "execution_count": 10,
   "id": "85b89fe5-3e71-425e-97d2-ec1c72963efe",
   "metadata": {},
   "outputs": [],
   "source": [
    "from sklearn.model_selection import train_test_split\n",
    "from sklearn.preprocessing import MinMaxScaler\n",
    "from collections import Counter"
   ]
  },
  {
   "cell_type": "code",
   "execution_count": 11,
   "id": "a5998531-5c7b-487c-ba73-b72a686d5fe6",
   "metadata": {},
   "outputs": [],
   "source": [
    "scaler = MinMaxScaler()\n",
    "scaler.fit(X)\n",
    "X = scaler.transform(X)"
   ]
  },
  {
   "cell_type": "code",
   "execution_count": 12,
   "id": "507cd730-491d-480d-b5c7-9f06f9994b36",
   "metadata": {},
   "outputs": [],
   "source": [
    "X_train, X_test, Y_train, Y_test = train_test_split(X, Y, test_size=0.2, random_state=0)"
   ]
  },
  {
   "cell_type": "code",
   "execution_count": 13,
   "id": "f737afc9-52e3-435b-8e9d-f180e138ef75",
   "metadata": {},
   "outputs": [
    {
     "data": {
      "text/plain": [
       "Class\n",
       "0    227454\n",
       "1       391\n",
       "Name: count, dtype: int64"
      ]
     },
     "execution_count": 13,
     "metadata": {},
     "output_type": "execute_result"
    }
   ],
   "source": [
    "Y_train.value_counts()"
   ]
  },
  {
   "cell_type": "markdown",
   "id": "6fd0744a-b2e9-4200-be22-efc1a2a1d6e9",
   "metadata": {},
   "source": [
    "### Creating Torch Dataset and Loader"
   ]
  },
  {
   "cell_type": "code",
   "execution_count": 14,
   "id": "a17e6346-a4d8-4b2d-a68a-1f8e75c762eb",
   "metadata": {},
   "outputs": [],
   "source": [
    "import torch"
   ]
  },
  {
   "cell_type": "code",
   "execution_count": 15,
   "id": "e5d63dda-9e05-4518-9a05-0d329b2e8b15",
   "metadata": {},
   "outputs": [],
   "source": [
    "train_ds = torch.utils.data.TensorDataset(torch.tensor(X_train).float(), torch.tensor(Y_train.to_numpy()).float())\n",
    "valid_ds = torch.utils.data.TensorDataset(torch.tensor(X_test).float(), torch.tensor(Y_test.to_numpy()).float())\n",
    "\n",
    "train_dl = torch.utils.data.DataLoader(train_ds, batch_size=100)\n",
    "valid_dl = torch.utils.data.DataLoader(valid_ds, batch_size=100)"
   ]
  },
  {
   "cell_type": "markdown",
   "id": "8d969713-28d8-4bc7-af59-164af81f5944",
   "metadata": {},
   "source": [
    "### Creating and Training the Model"
   ]
  },
  {
   "cell_type": "code",
   "execution_count": 64,
   "id": "fd24bd8f-724c-4d82-b55b-3d5341a39700",
   "metadata": {},
   "outputs": [],
   "source": [
    "# Import necessary libraries\n",
    "import numpy as np\n",
    "import torch.nn as nn\n",
    "import torch.optim as optim"
   ]
  },
  {
   "cell_type": "code",
   "execution_count": 61,
   "id": "09e9ea9e-bf40-4981-bda6-d51aadaa5755",
   "metadata": {},
   "outputs": [],
   "source": [
    "# Creating the Model\n",
    "\n",
    "class Classifier(nn.Module):\n",
    "    def __init__(self, n_input):\n",
    "        super().__init__()\n",
    "        self.l1 = nn.Linear(n_inputs, 64)\n",
    "        self.l2 = nn.Linear(64, 64)\n",
    "        self.l3 = nn.Linear(64, 64)\n",
    "        self.l4 = nn.Linear(64, 64)\n",
    "        self.l5 = nn.Linear(64, 64)\n",
    "        self.l6 = nn.Linear(64, 1)\n",
    "        self.relu = nn.ReLU()\n",
    "        self.drop_out = nn.Dropout(0.2)\n",
    "\n",
    "    def forward(self, x):\n",
    "        x = self.relu(self.l1(x))\n",
    "        x = self.relu(self.l2(x))\n",
    "        x = self.relu(self.l3(x))\n",
    "        x = self.relu(self.l4(x))\n",
    "        x = self.relu(self.l5(x))\n",
    "        x = self.drop_out(x)\n",
    "        return self.l6(x).squeeze()\n",
    "\n",
    "n_inputs = X_train.shape[1]\n",
    "model = Classifier(n_inputs)"
   ]
  },
  {
   "cell_type": "code",
   "execution_count": 62,
   "id": "1956213b-d21d-4a1e-bd0d-be0323b7a04d",
   "metadata": {},
   "outputs": [
    {
     "name": "stdout",
     "output_type": "stream",
     "text": [
      "0 0.050256293058190814\n",
      "1 0.04996378344368996\n",
      "2 0.049528857917690954\n",
      "3 0.04903870660663925\n",
      "4 0.04839527183806004\n",
      "5 0.04749800100960386\n",
      "6 0.04611754125155296\n",
      "7 0.043960221899855614\n",
      "8 0.0406445783759582\n",
      "9 0.036414863443148794\n",
      "10 0.03139335063687777\n",
      "11 0.02679952569274505\n",
      "12 0.022949160563855545\n",
      "13 0.01966876230365264\n",
      "14 0.017927275840437136\n",
      "15 0.017003488718882045\n",
      "16 0.016245697160172354\n",
      "17 0.015572011934446971\n",
      "18 0.014987153063706796\n",
      "19 0.014261956564630049\n",
      "20 0.013712110791020214\n",
      "21 0.013291149794272426\n",
      "22 0.012814872366258535\n",
      "23 0.012382992870300456\n",
      "24 0.01210523447527495\n",
      "25 0.011841771654177248\n",
      "26 0.011514494470628592\n",
      "27 0.01137030397782516\n",
      "28 0.01119840815848868\n",
      "29 0.010991521806996906\n",
      "30 0.010826323119083365\n",
      "31 0.010973439716596669\n",
      "32 0.010637235378692166\n",
      "33 0.010675503929297982\n",
      "34 0.010605220716513966\n",
      "35 0.010399827164494103\n",
      "36 0.010523974678747208\n",
      "37 0.0104146516977763\n",
      "38 0.010431355613500677\n",
      "39 0.010278105332627248\n",
      "40 0.010239904397336895\n",
      "41 0.010213736382661799\n",
      "42 0.010371241440020456\n",
      "43 0.010275888187098545\n",
      "44 0.010364607630611066\n",
      "45 0.010118240074361075\n",
      "46 0.010207150271915712\n",
      "47 0.010072734904489195\n",
      "48 0.010070605268228337\n",
      "49 0.010043066344152385\n"
     ]
    }
   ],
   "source": [
    "# Training the Model\n",
    "optimizer = optim.SGD(model.parameters(), lr=1e-3, momentum=0.9)\n",
    "loss_func = torch.nn.BCEWithLogitsLoss(pos_weight=pos_weight)\n",
    "\n",
    "def loss_calc(xb, yb, opt=None):\n",
    "    loss = loss_func(model(xb), yb)\n",
    "    if opt is not None:\n",
    "        loss.backward()\n",
    "        optimizer.step()\n",
    "        optimizer.zero_grad()\n",
    "    return loss.item(), len(xb)\n",
    "\n",
    "EPOCHS = 50\n",
    "\n",
    "for epoch in range(EPOCHS):\n",
    "    model.train()\n",
    "    \n",
    "    for xb, yb in train_dl:\n",
    "        loss_calc(xb, yb, optimizer)\n",
    "        \n",
    "    model.eval()\n",
    "    \n",
    "    with torch.no_grad():\n",
    "        losses, nums = zip(*[loss_calc(xb, yb) for xb, yb in valid_dl])\n",
    "        \n",
    "    val_loss = np.sum(np.multiply(losses, nums)) / np.sum(nums)\n",
    "    print(epoch, val_loss)"
   ]
  },
  {
   "cell_type": "markdown",
   "id": "0bf7f1f6-5682-45e4-aff0-d6aa073fe428",
   "metadata": {},
   "source": [
    "### Model Analysis"
   ]
  },
  {
   "cell_type": "code",
   "execution_count": 86,
   "id": "9d791667-2d61-4a05-8f40-c1986c8743c7",
   "metadata": {},
   "outputs": [
    {
     "name": "stdout",
     "output_type": "stream",
     "text": [
      "Confusion matrix: (Actual on X, Predicted on Y) \n",
      " [[56845    16]\n",
      " [   18    83]] \n",
      "\n",
      "AUPRC score: 0.6892848970301334 \n",
      "\n",
      "AUROC score: 0.9107503951358888 \n",
      "\n",
      "Accuracy score: 0.999403110845827 \n",
      "\n",
      "              precision    recall  f1-score   support\n",
      "\n",
      "           0       1.00      1.00      1.00     56861\n",
      "           1       0.84      0.82      0.83       101\n",
      "\n",
      "    accuracy                           1.00     56962\n",
      "   macro avg       0.92      0.91      0.91     56962\n",
      "weighted avg       1.00      1.00      1.00     56962\n",
      "\n"
     ]
    }
   ],
   "source": [
    "from sklearn import metrics\n",
    "Y_pred = model(torch.tensor(X_test).float()).detach().numpy()\n",
    "\n",
    "Y_pred[Y_pred>=0.5] =1.0\n",
    "Y_pred[Y_pred<0.5] =0.0\n",
    "\n",
    "print('Confusion matrix: (Actual on X, Predicted on Y) \\n {} \\n'. format(metrics.confusion_matrix(Y_test, Y_pred)))\n",
    "print('AUPRC score: {} \\n'. format(metrics.average_precision_score(Y_test, Y_pred)))\n",
    "print('AUROC score: {} \\n'.format(metrics.roc_auc_score(Y_test, Y_pred)))\n",
    "print('Accuracy score: {} \\n'.format(metrics.accuracy_score(Y_test, Y_pred)))\n",
    "print(metrics.classification_report(Y_test, Y_pred))"
   ]
  },
  {
   "cell_type": "markdown",
   "id": "38d2312c-8b00-4301-8587-8630374a8393",
   "metadata": {},
   "source": [
    "## Discussion"
   ]
  },
  {
   "cell_type": "markdown",
   "id": "1689209e-710b-4c06-be0c-23e19726b845",
   "metadata": {},
   "source": [
    "In this section, we will analyze and discuss the results obtained from our experiment, which focused on building a model for the detection of fraudulent transactions."
   ]
  },
  {
   "cell_type": "markdown",
   "id": "53d3787e-c79a-42cc-a936-87cf536b000a",
   "metadata": {},
   "source": [
    "### Model Performance Metrics"
   ]
  },
  {
   "cell_type": "markdown",
   "id": "ab940ca1-86f5-46ce-958b-4e9b78634b1a",
   "metadata": {},
   "source": [
    "#### 1. Confusion Matrix\n",
    "\n",
    "Where the actual values are on X, while the predicted values are on Y\n",
    "```\n",
    "Actual         Fraud      Normal\n",
    "Predicted                     \n",
    "Fraud          56845          16\n",
    "Normal            18          83 \n",
    "```\n",
    "\n",
    "The confusion matrix provides a detailed breakdown of the model's performance. It is structured as follows:\n",
    "\n",
    "- True Positives (TP): Our model correctly predicted 56845 fraudulent transactions as fraudulent.\n",
    "- False Positives (FP): The model incorrectly predicted 16 non-fraudulent transactions as fraudulent.\n",
    "- False Negatives (FN): The model incorrectly predicted 18 fraudulent transactions as non-fraudulent.\n",
    "- True Negatives (TN): Our model correctly predicted 83 non-fraudulent transactions as non-fraudulent.\n",
    "\n",
    "#### 2. Area Under the Precision-Recall Curve (AUPRC):\n",
    "AUPRC Score: 0.6893\n",
    "The AUPRC score is a valuable metric for imbalanced datasets like ours. It measures the area under the precision-recall curve, which provides insights into the model's performance, particularly in the context of detecting the minority class (fraudulent transactions). An AUPRC score of 0.6893 indicates that our model achieves a reasonable balance between precision and recall.\n",
    "\n",
    "#### 3. Area Under the Receiver Operating Characteristic Curve (AUROC):\n",
    "AUROC Score: 0.9108\n",
    "The AUROC score measures the area under the receiver operating characteristic curve, which assesses the model's ability to distinguish between the two classes. An AUROC score of 0.9108 suggests that our model exhibits strong discriminatory power and performs well in classifying transactions.\n",
    "\n",
    "#### 4. Accuracy Score:\n",
    "Accuracy Score: 99.94%\n",
    "The accuracy score represents the proportion of correctly classified instances. While a high accuracy score is indicative of model performance, it should be interpreted with caution in imbalanced datasets. In our case, the high accuracy is largely influenced by the large number of true negatives (non-fraudulent transactions).\n",
    "\n",
    "#### 5. Precision, Recall, and F1-Score\n",
    "The precision, recall, and F1-score provide a more comprehensive evaluation of our model's performance, especially in the context of classifying fraudulent transactions (class 1):\n",
    "\n",
    "- **Precision (for class 1): 0.84** Precision measures the proportion of true positive predictions among all positive predictions. In our case, it indicates that when our model predicts a transaction as fraudulent, it is correct approximately 84% of the time.\n",
    "- **Recall (for class 1): 0.82** Recall (or sensitivity) measures the proportion of true positives correctly identified by our model among all actual fraudulent transactions. An 82% recall rate indicates that our model captures 82% of the actual fraudulent transactions.\n",
    "- **F1-Score (for class 1): 0.83** The F1-score is the harmonic mean of precision and recall. It provides a balanced measure of a model's accuracy in identifying true positive cases while minimizing false positives and false negatives.\n",
    "\n",
    "#### Model Evaluation Summary\n",
    "Our model demonstrates strong performance in detecting fraudulent transactions, as evidenced by the following:\n",
    "\n",
    "- High AUROC and AUPRC scores indicate effective discrimination between classes.\n",
    "- High accuracy reflects the overall performance.\n",
    "- Precision, recall, and F1-score values for class 1 highlight the model's ability to correctly classify fraudulent transactions while minimizing false positives."
   ]
  },
  {
   "cell_type": "markdown",
   "id": "b5668761-bea8-4150-8ce7-a6c7cc737e96",
   "metadata": {},
   "source": [
    "### Implications and Further Steps"
   ]
  },
  {
   "cell_type": "markdown",
   "id": "77820918-3a67-4291-b887-8849c20fcd25",
   "metadata": {},
   "source": [
    "These results are promising for the development of a fraud detection system. However, several considerations and areas for improvement should be noted:\n",
    "- Class Imbalance: Our dataset is highly imbalanced, with a significantly larger number of non-fraudulent transactions. While our model performs well, further techniques like resampling methods or different cost-sensitive learning approaches can be explored to improve minority class detection.\n",
    "- Model Robustness: Extensive testing on unseen data is required to assess the model's generalization capabilities. Continual monitoring and retraining of the model are crucial to adapt to evolving fraud patterns.\n",
    "- Feature Engineering: Further feature engineering and exploration may lead to improved model performance. Additional domain-specific features could enhance the model's ability to identify fraud.\n",
    "- Model Explainability: Understanding the features and factors contributing to model predictions is essential, especially in the financial sector. Employing interpretability techniques can aid in model explainability."
   ]
  },
  {
   "cell_type": "markdown",
   "id": "458eb79c-ec29-4a64-a184-cab6ebbe910e",
   "metadata": {},
   "source": [
    "### Conclusion"
   ]
  },
  {
   "cell_type": "markdown",
   "id": "b81e2fb9-97ad-484e-84fb-44187865733d",
   "metadata": {},
   "source": [
    "In conclusion, our model exhibits strong performance in detecting fraudulent transactions, but it should be considered a part of a broader fraud detection strategy. Further refinement and monitoring are necessary to ensure the continued effectiveness of the system in a dynamic and evolving environment."
   ]
  },
  {
   "cell_type": "markdown",
   "id": "0a4500bd-43e9-4994-8360-778cbfbf11fd",
   "metadata": {},
   "source": [
    "## Works Cited"
   ]
  },
  {
   "cell_type": "markdown",
   "id": "e0e681eb-b193-4f39-a11c-c01e8631e8d9",
   "metadata": {},
   "source": [
    "- Andrea Dal Pozzolo, Olivier Caelen, Reid A. Johnson and Gianluca Bontempi. Calibrating Probability with Undersampling for Unbalanced Classification. In Symposium on Computational Intelligence and Data Mining (CIDM), IEEE, 2015\n",
    "- Dal Pozzolo, Andrea; Caelen, Olivier; Le Borgne, Yann-Ael; Waterschoot, Serge; Bontempi, Gianluca. Learned lessons in credit card fraud detection from a practitioner perspective, Expert systems with applications,41,10,4915-4928,2014, Pergamon\n",
    "- Dal Pozzolo, Andrea; Boracchi, Giacomo; Caelen, Olivier; Alippi, Cesare; Bontempi, Gianluca. Credit card fraud detection: a realistic modeling and a novel learning strategy, IEEE transactions on neural networks and learning systems,29,8,3784-3797,2018,IEEE\n",
    "- Dal Pozzolo, Andrea Adaptive Machine learning for credit card fraud detection ULB MLG PhD thesis (supervised by G. Bontempi)\n",
    "- Carcillo, Fabrizio; Dal Pozzolo, Andrea; Le Borgne, Yann-Aël; Caelen, Olivier; Mazzer, Yannis; Bontempi, Gianluca. Scarff: a scalable framework for streaming credit card fraud detection with Spark, Information fusion,41, 182-194,2018,Elsevier\n",
    "- Carcillo, Fabrizio; Le Borgne, Yann-Aël; Caelen, Olivier; Bontempi, Gianluca. Streaming active learning strategies for real-life credit card fraud detection: assessment and visualization, International Journal of Data Science and Analytics, 5,4,285-300,2018,Springer International Publishing\n",
    "- Bertrand Lebichot, Yann-Aël Le Borgne, Liyun He, Frederic Oblé, Gianluca Bontempi Deep-Learning Domain Adaptation Techniques for Credit Cards Fraud Detection, INNSBDDL 2019: Recent Advances in Big Data and Deep Learning, pp 78-88, 2019\n",
    "- Fabrizio Carcillo, Yann-Aël Le Borgne, Olivier Caelen, Frederic Oblé, Gianluca Bontempi Combining Unsupervised and Supervised Learning in Credit Card Fraud Detection Information Sciences, 2019\n",
    "- Yann-Aël Le Borgne, Gianluca Bontempi Reproducible machine Learning for Credit Card Fraud Detection - Practical Handbook\n",
    "- Bertrand Lebichot, Gianmarco Paldino, Wissam Siblini, Liyun He, Frederic Oblé, Gianluca Bontempi Incremental learning strategies for credit cards fraud detection, IInternational Journal of Data Science and Analytics"
   ]
  }
 ],
 "metadata": {
  "kernelspec": {
   "display_name": "Python 3 (ipykernel)",
   "language": "python",
   "name": "python3"
  },
  "language_info": {
   "codemirror_mode": {
    "name": "ipython",
    "version": 3
   },
   "file_extension": ".py",
   "mimetype": "text/x-python",
   "name": "python",
   "nbconvert_exporter": "python",
   "pygments_lexer": "ipython3",
   "version": "3.11.4"
  }
 },
 "nbformat": 4,
 "nbformat_minor": 5
}
