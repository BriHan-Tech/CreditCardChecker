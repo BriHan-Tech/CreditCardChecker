{
 "cells": [
  {
   "cell_type": "markdown",
   "id": "8727e523-bbe8-49f5-b208-37d67e35408f",
   "metadata": {},
   "source": [
    "# Credit Card Fraud Detection using Machine Learning"
   ]
  },
  {
   "cell_type": "markdown",
   "id": "aeff8389-bf76-4b9c-a978-21e10b0701d7",
   "metadata": {},
   "source": [
    "## Introduction"
   ]
  },
  {
   "cell_type": "markdown",
   "id": "5931289b-4424-47d7-9fac-30976f886273",
   "metadata": {},
   "source": [
    "### Relevant Background Information"
   ]
  },
  {
   "cell_type": "markdown",
   "id": "68c33db0-8485-4a4a-b20d-de225a627c93",
   "metadata": {},
   "source": [
    "Detecting credit card fraud, where fake card numbers are used, is a critical challenge for financial institutions and merchants. In this context, fake card numbers typically refer to numbers that do not correspond to valid credit cards issued by any legitimate financial institution. Detecting such fraudulent transactions involves a combination of data analysis, pattern recognition, and machine learning techniques. Logistic regression is one of the many tools available to create a model for detecting this type of credit card fraud. "
   ]
  },
  {
   "cell_type": "markdown",
   "id": "5445b257-7d4b-4e19-aa5f-281471aed05e",
   "metadata": {},
   "source": [
    "### Predictive Question"
   ]
  },
  {
   "cell_type": "markdown",
   "id": "3f182e5c-4906-48ab-bc0d-bebafcb4f3a7",
   "metadata": {},
   "source": [
    "Can I use Machine Learning to classify a credit card number as fraud or legitimate?"
   ]
  },
  {
   "cell_type": "markdown",
   "id": "bbaacabe-8723-47c6-8e59-a43d5e2020ba",
   "metadata": {},
   "source": [
    "### Dataset"
   ]
  },
  {
   "cell_type": "markdown",
   "id": "c66d53fd-be34-4758-a7b9-f84f6d2c06d5",
   "metadata": {},
   "source": [
    "The dataset used in this project comes from: https://www.kaggle.com/datasets/mlg-ulb/creditcardfraud\n",
    "\n",
    "The dataset has been collected and analysed during a research collaboration of Worldline and the Machine Learning Group (http://mlg.ulb.ac.be) of ULB (Université Libre de Bruxelles) on big data mining and fraud detection."
   ]
  },
  {
   "cell_type": "markdown",
   "id": "26df4263-77e2-4e78-92d5-2e12afa2f668",
   "metadata": {},
   "source": [
    "## Methods & Results"
   ]
  },
  {
   "cell_type": "markdown",
   "id": "fed5a88c-4999-427b-9a2e-15a78abd207a",
   "metadata": {},
   "source": [
    "### Overview"
   ]
  },
  {
   "cell_type": "markdown",
   "id": "67ac7196-3999-4b11-a462-200ed7a41453",
   "metadata": {},
   "source": [
    "To successfully classify whether a credit card number is fraud or legitimate, I will be using the Logistic Regression. To successfully create this model, I will be analyzing the data, preparing the data, splitting the data, and correctly using Logistic Regression."
   ]
  },
  {
   "cell_type": "markdown",
   "id": "daa6277a-c8c3-4a46-aba9-fe883499fd3c",
   "metadata": {},
   "source": [
    "### Housekeeping"
   ]
  },
  {
   "cell_type": "markdown",
   "id": "e5c99472-31ef-497c-84c3-8112c3f72b87",
   "metadata": {},
   "source": [
    "We start by loading the required libraries"
   ]
  },
  {
   "cell_type": "code",
   "execution_count": 1,
   "id": "3e4ebda8-3f95-4b0a-95f2-2fa3ec324f2b",
   "metadata": {},
   "outputs": [],
   "source": [
    "import pandas as pd\n",
    "from sklearn.model_selection import train_test_split\n",
    "from sklearn.linear_model import LogisticRegression\n",
    "from sklearn.metrics import accuracy_score"
   ]
  },
  {
   "cell_type": "markdown",
   "id": "f2187481-df9e-405d-90c8-b48142242aee",
   "metadata": {},
   "source": [
    "### Gather Data"
   ]
  },
  {
   "cell_type": "markdown",
   "id": "578a1622-8b10-4a03-892a-b0350e8b0cbb",
   "metadata": {},
   "source": [
    "Load the dataset to a Pandas DataFrame"
   ]
  },
  {
   "cell_type": "code",
   "execution_count": 2,
   "id": "3a343c84-9ebd-4bfa-bb40-8422e47bfaeb",
   "metadata": {},
   "outputs": [
    {
     "data": {
      "text/html": [
       "<div>\n",
       "<style scoped>\n",
       "    .dataframe tbody tr th:only-of-type {\n",
       "        vertical-align: middle;\n",
       "    }\n",
       "\n",
       "    .dataframe tbody tr th {\n",
       "        vertical-align: top;\n",
       "    }\n",
       "\n",
       "    .dataframe thead th {\n",
       "        text-align: right;\n",
       "    }\n",
       "</style>\n",
       "<table border=\"1\" class=\"dataframe\">\n",
       "  <thead>\n",
       "    <tr style=\"text-align: right;\">\n",
       "      <th></th>\n",
       "      <th>Time</th>\n",
       "      <th>V1</th>\n",
       "      <th>V2</th>\n",
       "      <th>V3</th>\n",
       "      <th>V4</th>\n",
       "      <th>V5</th>\n",
       "      <th>V6</th>\n",
       "      <th>V7</th>\n",
       "      <th>V8</th>\n",
       "      <th>V9</th>\n",
       "      <th>...</th>\n",
       "      <th>V21</th>\n",
       "      <th>V22</th>\n",
       "      <th>V23</th>\n",
       "      <th>V24</th>\n",
       "      <th>V25</th>\n",
       "      <th>V26</th>\n",
       "      <th>V27</th>\n",
       "      <th>V28</th>\n",
       "      <th>Amount</th>\n",
       "      <th>Class</th>\n",
       "    </tr>\n",
       "  </thead>\n",
       "  <tbody>\n",
       "    <tr>\n",
       "      <th>0</th>\n",
       "      <td>0.0</td>\n",
       "      <td>-1.359807</td>\n",
       "      <td>-0.072781</td>\n",
       "      <td>2.536347</td>\n",
       "      <td>1.378155</td>\n",
       "      <td>-0.338321</td>\n",
       "      <td>0.462388</td>\n",
       "      <td>0.239599</td>\n",
       "      <td>0.098698</td>\n",
       "      <td>0.363787</td>\n",
       "      <td>...</td>\n",
       "      <td>-0.018307</td>\n",
       "      <td>0.277838</td>\n",
       "      <td>-0.110474</td>\n",
       "      <td>0.066928</td>\n",
       "      <td>0.128539</td>\n",
       "      <td>-0.189115</td>\n",
       "      <td>0.133558</td>\n",
       "      <td>-0.021053</td>\n",
       "      <td>149.62</td>\n",
       "      <td>0</td>\n",
       "    </tr>\n",
       "    <tr>\n",
       "      <th>1</th>\n",
       "      <td>0.0</td>\n",
       "      <td>1.191857</td>\n",
       "      <td>0.266151</td>\n",
       "      <td>0.166480</td>\n",
       "      <td>0.448154</td>\n",
       "      <td>0.060018</td>\n",
       "      <td>-0.082361</td>\n",
       "      <td>-0.078803</td>\n",
       "      <td>0.085102</td>\n",
       "      <td>-0.255425</td>\n",
       "      <td>...</td>\n",
       "      <td>-0.225775</td>\n",
       "      <td>-0.638672</td>\n",
       "      <td>0.101288</td>\n",
       "      <td>-0.339846</td>\n",
       "      <td>0.167170</td>\n",
       "      <td>0.125895</td>\n",
       "      <td>-0.008983</td>\n",
       "      <td>0.014724</td>\n",
       "      <td>2.69</td>\n",
       "      <td>0</td>\n",
       "    </tr>\n",
       "    <tr>\n",
       "      <th>2</th>\n",
       "      <td>1.0</td>\n",
       "      <td>-1.358354</td>\n",
       "      <td>-1.340163</td>\n",
       "      <td>1.773209</td>\n",
       "      <td>0.379780</td>\n",
       "      <td>-0.503198</td>\n",
       "      <td>1.800499</td>\n",
       "      <td>0.791461</td>\n",
       "      <td>0.247676</td>\n",
       "      <td>-1.514654</td>\n",
       "      <td>...</td>\n",
       "      <td>0.247998</td>\n",
       "      <td>0.771679</td>\n",
       "      <td>0.909412</td>\n",
       "      <td>-0.689281</td>\n",
       "      <td>-0.327642</td>\n",
       "      <td>-0.139097</td>\n",
       "      <td>-0.055353</td>\n",
       "      <td>-0.059752</td>\n",
       "      <td>378.66</td>\n",
       "      <td>0</td>\n",
       "    </tr>\n",
       "    <tr>\n",
       "      <th>3</th>\n",
       "      <td>1.0</td>\n",
       "      <td>-0.966272</td>\n",
       "      <td>-0.185226</td>\n",
       "      <td>1.792993</td>\n",
       "      <td>-0.863291</td>\n",
       "      <td>-0.010309</td>\n",
       "      <td>1.247203</td>\n",
       "      <td>0.237609</td>\n",
       "      <td>0.377436</td>\n",
       "      <td>-1.387024</td>\n",
       "      <td>...</td>\n",
       "      <td>-0.108300</td>\n",
       "      <td>0.005274</td>\n",
       "      <td>-0.190321</td>\n",
       "      <td>-1.175575</td>\n",
       "      <td>0.647376</td>\n",
       "      <td>-0.221929</td>\n",
       "      <td>0.062723</td>\n",
       "      <td>0.061458</td>\n",
       "      <td>123.50</td>\n",
       "      <td>0</td>\n",
       "    </tr>\n",
       "    <tr>\n",
       "      <th>4</th>\n",
       "      <td>2.0</td>\n",
       "      <td>-1.158233</td>\n",
       "      <td>0.877737</td>\n",
       "      <td>1.548718</td>\n",
       "      <td>0.403034</td>\n",
       "      <td>-0.407193</td>\n",
       "      <td>0.095921</td>\n",
       "      <td>0.592941</td>\n",
       "      <td>-0.270533</td>\n",
       "      <td>0.817739</td>\n",
       "      <td>...</td>\n",
       "      <td>-0.009431</td>\n",
       "      <td>0.798278</td>\n",
       "      <td>-0.137458</td>\n",
       "      <td>0.141267</td>\n",
       "      <td>-0.206010</td>\n",
       "      <td>0.502292</td>\n",
       "      <td>0.219422</td>\n",
       "      <td>0.215153</td>\n",
       "      <td>69.99</td>\n",
       "      <td>0</td>\n",
       "    </tr>\n",
       "  </tbody>\n",
       "</table>\n",
       "<p>5 rows × 31 columns</p>\n",
       "</div>"
      ],
      "text/plain": [
       "   Time        V1        V2        V3        V4        V5        V6        V7  \\\n",
       "0   0.0 -1.359807 -0.072781  2.536347  1.378155 -0.338321  0.462388  0.239599   \n",
       "1   0.0  1.191857  0.266151  0.166480  0.448154  0.060018 -0.082361 -0.078803   \n",
       "2   1.0 -1.358354 -1.340163  1.773209  0.379780 -0.503198  1.800499  0.791461   \n",
       "3   1.0 -0.966272 -0.185226  1.792993 -0.863291 -0.010309  1.247203  0.237609   \n",
       "4   2.0 -1.158233  0.877737  1.548718  0.403034 -0.407193  0.095921  0.592941   \n",
       "\n",
       "         V8        V9  ...       V21       V22       V23       V24       V25  \\\n",
       "0  0.098698  0.363787  ... -0.018307  0.277838 -0.110474  0.066928  0.128539   \n",
       "1  0.085102 -0.255425  ... -0.225775 -0.638672  0.101288 -0.339846  0.167170   \n",
       "2  0.247676 -1.514654  ...  0.247998  0.771679  0.909412 -0.689281 -0.327642   \n",
       "3  0.377436 -1.387024  ... -0.108300  0.005274 -0.190321 -1.175575  0.647376   \n",
       "4 -0.270533  0.817739  ... -0.009431  0.798278 -0.137458  0.141267 -0.206010   \n",
       "\n",
       "        V26       V27       V28  Amount  Class  \n",
       "0 -0.189115  0.133558 -0.021053  149.62      0  \n",
       "1  0.125895 -0.008983  0.014724    2.69      0  \n",
       "2 -0.139097 -0.055353 -0.059752  378.66      0  \n",
       "3 -0.221929  0.062723  0.061458  123.50      0  \n",
       "4  0.502292  0.219422  0.215153   69.99      0  \n",
       "\n",
       "[5 rows x 31 columns]"
      ]
     },
     "execution_count": 2,
     "metadata": {},
     "output_type": "execute_result"
    }
   ],
   "source": [
    "credit_card_data = pd.read_csv('data/creditcard.csv')\n",
    "credit_card_data.head()"
   ]
  },
  {
   "cell_type": "markdown",
   "id": "f219d374-c45c-4111-be47-6b8f993cae23",
   "metadata": {},
   "source": [
    "### Data Analysis"
   ]
  },
  {
   "cell_type": "markdown",
   "id": "a204660f-c834-40fa-b694-fd2c03713362",
   "metadata": {},
   "source": [
    "Dataset Information"
   ]
  },
  {
   "cell_type": "code",
   "execution_count": 3,
   "id": "def87233-8a87-4501-8098-60f3ce3bad51",
   "metadata": {},
   "outputs": [
    {
     "name": "stdout",
     "output_type": "stream",
     "text": [
      "<class 'pandas.core.frame.DataFrame'>\n",
      "RangeIndex: 284807 entries, 0 to 284806\n",
      "Data columns (total 31 columns):\n",
      " #   Column  Non-Null Count   Dtype  \n",
      "---  ------  --------------   -----  \n",
      " 0   Time    284807 non-null  float64\n",
      " 1   V1      284807 non-null  float64\n",
      " 2   V2      284807 non-null  float64\n",
      " 3   V3      284807 non-null  float64\n",
      " 4   V4      284807 non-null  float64\n",
      " 5   V5      284807 non-null  float64\n",
      " 6   V6      284807 non-null  float64\n",
      " 7   V7      284807 non-null  float64\n",
      " 8   V8      284807 non-null  float64\n",
      " 9   V9      284807 non-null  float64\n",
      " 10  V10     284807 non-null  float64\n",
      " 11  V11     284807 non-null  float64\n",
      " 12  V12     284807 non-null  float64\n",
      " 13  V13     284807 non-null  float64\n",
      " 14  V14     284807 non-null  float64\n",
      " 15  V15     284807 non-null  float64\n",
      " 16  V16     284807 non-null  float64\n",
      " 17  V17     284807 non-null  float64\n",
      " 18  V18     284807 non-null  float64\n",
      " 19  V19     284807 non-null  float64\n",
      " 20  V20     284807 non-null  float64\n",
      " 21  V21     284807 non-null  float64\n",
      " 22  V22     284807 non-null  float64\n",
      " 23  V23     284807 non-null  float64\n",
      " 24  V24     284807 non-null  float64\n",
      " 25  V25     284807 non-null  float64\n",
      " 26  V26     284807 non-null  float64\n",
      " 27  V27     284807 non-null  float64\n",
      " 28  V28     284807 non-null  float64\n",
      " 29  Amount  284807 non-null  float64\n",
      " 30  Class   284807 non-null  int64  \n",
      "dtypes: float64(30), int64(1)\n",
      "memory usage: 67.4 MB\n"
     ]
    }
   ],
   "source": [
    "credit_card_data.info()"
   ]
  },
  {
   "cell_type": "markdown",
   "id": "2d58d782-d30c-4a5b-815e-526b54caa44b",
   "metadata": {},
   "source": [
    "Checking the number of missing values in each column"
   ]
  },
  {
   "cell_type": "code",
   "execution_count": 4,
   "id": "5759df46-505f-4f31-9e96-caac4ceb0470",
   "metadata": {},
   "outputs": [
    {
     "data": {
      "text/plain": [
       "Time      0\n",
       "V1        0\n",
       "V2        0\n",
       "V3        0\n",
       "V4        0\n",
       "V5        0\n",
       "V6        0\n",
       "V7        0\n",
       "V8        0\n",
       "V9        0\n",
       "V10       0\n",
       "V11       0\n",
       "V12       0\n",
       "V13       0\n",
       "V14       0\n",
       "V15       0\n",
       "V16       0\n",
       "V17       0\n",
       "V18       0\n",
       "V19       0\n",
       "V20       0\n",
       "V21       0\n",
       "V22       0\n",
       "V23       0\n",
       "V24       0\n",
       "V25       0\n",
       "V26       0\n",
       "V27       0\n",
       "V28       0\n",
       "Amount    0\n",
       "Class     0\n",
       "dtype: int64"
      ]
     },
     "execution_count": 4,
     "metadata": {},
     "output_type": "execute_result"
    }
   ],
   "source": [
    "credit_card_data.isnull().sum()"
   ]
  },
  {
   "cell_type": "markdown",
   "id": "bff4dba4-720f-4cfa-b533-775c222f6527",
   "metadata": {},
   "source": [
    "Distribution of legit transactions & fraudulent transactions"
   ]
  },
  {
   "cell_type": "code",
   "execution_count": 5,
   "id": "3cbd4e8b-405b-4894-b0c4-44625e09ae70",
   "metadata": {},
   "outputs": [
    {
     "data": {
      "text/plain": [
       "Class\n",
       "0    284315\n",
       "1       492\n",
       "Name: count, dtype: int64"
      ]
     },
     "execution_count": 5,
     "metadata": {},
     "output_type": "execute_result"
    }
   ],
   "source": [
    "credit_card_data['Class'].value_counts()"
   ]
  },
  {
   "cell_type": "code",
   "execution_count": 6,
   "id": "7eda1af3-b2c5-4544-af41-564b245deeb2",
   "metadata": {},
   "outputs": [
    {
     "data": {
      "text/plain": [
       "<Axes: xlabel='Class'>"
      ]
     },
     "execution_count": 6,
     "metadata": {},
     "output_type": "execute_result"
    },
    {
     "data": {
      "image/png": "[encoded data removed]",
      "text/plain": [
       "<Figure size 640x480 with 1 Axes>"
      ]
     },
     "metadata": {},
     "output_type": "display_data"
    }
   ],
   "source": [
    "pd.Series(credit_card_data['Class']).value_counts().plot.bar()"
   ]
  },
  {
   "cell_type": "markdown",
   "id": "9c63a0cb-701a-44f9-9946-2fa61560f953",
   "metadata": {},
   "source": [
    "#### Conclusion"
   ]
  },
  {
   "cell_type": "markdown",
   "id": "48614142-241a-454c-a751-f0622a7d4142",
   "metadata": {},
   "source": [
    "The dataset is highly imbalanced:\n",
    "- 0: Normal Transaction\n",
    "- 1: Fraudulent Transaction\n",
    "\n",
    "We will be performing ***Under-Sampling*** to build a sample datset containing a similar distribution of normal and fraudulent transactions"
   ]
  },
  {
   "cell_type": "markdown",
   "id": "90a8b922-d62b-4e39-98b7-2678141728cf",
   "metadata": {},
   "source": [
    "### Data Preparation"
   ]
  },
  {
   "cell_type": "markdown",
   "id": "1b394fb4-7375-49a2-9115-6c894d2839e1",
   "metadata": {},
   "source": [
    "#### Undersampling"
   ]
  },
  {
   "cell_type": "markdown",
   "id": "54d3287d-bc7e-4101-bf38-14ea0c8ef957",
   "metadata": {},
   "source": [
    "Separating the data"
   ]
  },
  {
   "cell_type": "code",
   "execution_count": 7,
   "id": "455088b7-67ec-4cd4-b5df-2166591b441d",
   "metadata": {},
   "outputs": [],
   "source": [
    "legit = credit_card_data[credit_card_data.Class == 0]\n",
    "fraud = credit_card_data[credit_card_data.Class == 1]"
   ]
  },
  {
   "cell_type": "code",
   "execution_count": 8,
   "id": "db276e0b-c897-4ff8-8ffe-8d95bd59a9a4",
   "metadata": {},
   "outputs": [
    {
     "name": "stdout",
     "output_type": "stream",
     "text": [
      "(284315, 31)\n",
      "(492, 31)\n"
     ]
    }
   ],
   "source": [
    "print(legit.shape)\n",
    "print(fraud.shape)"
   ]
  },
  {
   "cell_type": "markdown",
   "id": "29825ac4-6623-4f6b-a605-bd2a7847e68c",
   "metadata": {},
   "source": [
    "Statistical Measure of the data"
   ]
  },
  {
   "cell_type": "code",
   "execution_count": 9,
   "id": "4959a600-f6bf-4db7-b554-1682a07308d1",
   "metadata": {},
   "outputs": [
    {
     "data": {
      "text/plain": [
       "count    284315.000000\n",
       "mean         88.291022\n",
       "std         250.105092\n",
       "min           0.000000\n",
       "25%           5.650000\n",
       "50%          22.000000\n",
       "75%          77.050000\n",
       "max       25691.160000\n",
       "Name: Amount, dtype: float64"
      ]
     },
     "execution_count": 9,
     "metadata": {},
     "output_type": "execute_result"
    }
   ],
   "source": [
    "legit.Amount.describe()"
   ]
  },
  {
   "cell_type": "markdown",
   "id": "277f95c1-c59a-4473-a4c3-2fd8c0d83e4d",
   "metadata": {},
   "source": [
    "fraud.Amount.describe()"
   ]
  },
  {
   "cell_type": "markdown",
   "id": "aa7b8b42-2782-4663-87c7-217b555e5412",
   "metadata": {},
   "source": [
    "Compare the values for both transactions"
   ]
  },
  {
   "cell_type": "code",
   "execution_count": 10,
   "id": "a5c0c683-3dc0-419a-b335-aaff44a43c7c",
   "metadata": {},
   "outputs": [
    {
     "data": {
      "text/html": [
       "<div>\n",
       "<style scoped>\n",
       "    .dataframe tbody tr th:only-of-type {\n",
       "        vertical-align: middle;\n",
       "    }\n",
       "\n",
       "    .dataframe tbody tr th {\n",
       "        vertical-align: top;\n",
       "    }\n",
       "\n",
       "    .dataframe thead th {\n",
       "        text-align: right;\n",
       "    }\n",
       "</style>\n",
       "<table border=\"1\" class=\"dataframe\">\n",
       "  <thead>\n",
       "    <tr style=\"text-align: right;\">\n",
       "      <th></th>\n",
       "      <th>Time</th>\n",
       "      <th>V1</th>\n",
       "      <th>V2</th>\n",
       "      <th>V3</th>\n",
       "      <th>V4</th>\n",
       "      <th>V5</th>\n",
       "      <th>V6</th>\n",
       "      <th>V7</th>\n",
       "      <th>V8</th>\n",
       "      <th>V9</th>\n",
       "      <th>...</th>\n",
       "      <th>V20</th>\n",
       "      <th>V21</th>\n",
       "      <th>V22</th>\n",
       "      <th>V23</th>\n",
       "      <th>V24</th>\n",
       "      <th>V25</th>\n",
       "      <th>V26</th>\n",
       "      <th>V27</th>\n",
       "      <th>V28</th>\n",
       "      <th>Amount</th>\n",
       "    </tr>\n",
       "    <tr>\n",
       "      <th>Class</th>\n",
       "      <th></th>\n",
       "      <th></th>\n",
       "      <th></th>\n",
       "      <th></th>\n",
       "      <th></th>\n",
       "      <th></th>\n",
       "      <th></th>\n",
       "      <th></th>\n",
       "      <th></th>\n",
       "      <th></th>\n",
       "      <th></th>\n",
       "      <th></th>\n",
       "      <th></th>\n",
       "      <th></th>\n",
       "      <th></th>\n",
       "      <th></th>\n",
       "      <th></th>\n",
       "      <th></th>\n",
       "      <th></th>\n",
       "      <th></th>\n",
       "      <th></th>\n",
       "    </tr>\n",
       "  </thead>\n",
       "  <tbody>\n",
       "    <tr>\n",
       "      <th>0</th>\n",
       "      <td>94838.202258</td>\n",
       "      <td>0.008258</td>\n",
       "      <td>-0.006271</td>\n",
       "      <td>0.012171</td>\n",
       "      <td>-0.007860</td>\n",
       "      <td>0.005453</td>\n",
       "      <td>0.002419</td>\n",
       "      <td>0.009637</td>\n",
       "      <td>-0.000987</td>\n",
       "      <td>0.004467</td>\n",
       "      <td>...</td>\n",
       "      <td>-0.000644</td>\n",
       "      <td>-0.001235</td>\n",
       "      <td>-0.000024</td>\n",
       "      <td>0.000070</td>\n",
       "      <td>0.000182</td>\n",
       "      <td>-0.000072</td>\n",
       "      <td>-0.000089</td>\n",
       "      <td>-0.000295</td>\n",
       "      <td>-0.000131</td>\n",
       "      <td>88.291022</td>\n",
       "    </tr>\n",
       "    <tr>\n",
       "      <th>1</th>\n",
       "      <td>80746.806911</td>\n",
       "      <td>-4.771948</td>\n",
       "      <td>3.623778</td>\n",
       "      <td>-7.033281</td>\n",
       "      <td>4.542029</td>\n",
       "      <td>-3.151225</td>\n",
       "      <td>-1.397737</td>\n",
       "      <td>-5.568731</td>\n",
       "      <td>0.570636</td>\n",
       "      <td>-2.581123</td>\n",
       "      <td>...</td>\n",
       "      <td>0.372319</td>\n",
       "      <td>0.713588</td>\n",
       "      <td>0.014049</td>\n",
       "      <td>-0.040308</td>\n",
       "      <td>-0.105130</td>\n",
       "      <td>0.041449</td>\n",
       "      <td>0.051648</td>\n",
       "      <td>0.170575</td>\n",
       "      <td>0.075667</td>\n",
       "      <td>122.211321</td>\n",
       "    </tr>\n",
       "  </tbody>\n",
       "</table>\n",
       "<p>2 rows × 30 columns</p>\n",
       "</div>"
      ],
      "text/plain": [
       "               Time        V1        V2        V3        V4        V5  \\\n",
       "Class                                                                   \n",
       "0      94838.202258  0.008258 -0.006271  0.012171 -0.007860  0.005453   \n",
       "1      80746.806911 -4.771948  3.623778 -7.033281  4.542029 -3.151225   \n",
       "\n",
       "             V6        V7        V8        V9  ...       V20       V21  \\\n",
       "Class                                          ...                       \n",
       "0      0.002419  0.009637 -0.000987  0.004467  ... -0.000644 -0.001235   \n",
       "1     -1.397737 -5.568731  0.570636 -2.581123  ...  0.372319  0.713588   \n",
       "\n",
       "            V22       V23       V24       V25       V26       V27       V28  \\\n",
       "Class                                                                         \n",
       "0     -0.000024  0.000070  0.000182 -0.000072 -0.000089 -0.000295 -0.000131   \n",
       "1      0.014049 -0.040308 -0.105130  0.041449  0.051648  0.170575  0.075667   \n",
       "\n",
       "           Amount  \n",
       "Class              \n",
       "0       88.291022  \n",
       "1      122.211321  \n",
       "\n",
       "[2 rows x 30 columns]"
      ]
     },
     "execution_count": 10,
     "metadata": {},
     "output_type": "execute_result"
    }
   ],
   "source": [
    "credit_card_data.groupby('Class').mean()"
   ]
  },
  {
   "cell_type": "markdown",
   "id": "7a3fd495-a746-40a5-bc35-5492b6f5294b",
   "metadata": {},
   "source": [
    "Build a sample dataset containing similar distribution of normal transactions and fraudulent transactions"
   ]
  },
  {
   "cell_type": "code",
   "execution_count": 11,
   "id": "e12a54b3-f9c9-404d-8b77-19ed28ceba67",
   "metadata": {},
   "outputs": [],
   "source": [
    "legit_sample = legit.sample(n=492)"
   ]
  },
  {
   "cell_type": "markdown",
   "id": "38e2d807-ab50-46a2-8947-fe9495e0a18e",
   "metadata": {},
   "source": [
    "Concatenating two DataFrames"
   ]
  },
  {
   "cell_type": "code",
   "execution_count": 12,
   "id": "2378efdd-81fe-41b1-8e73-606b28078cee",
   "metadata": {},
   "outputs": [
    {
     "data": {
      "text/html": [
       "<div>\n",
       "<style scoped>\n",
       "    .dataframe tbody tr th:only-of-type {\n",
       "        vertical-align: middle;\n",
       "    }\n",
       "\n",
       "    .dataframe tbody tr th {\n",
       "        vertical-align: top;\n",
       "    }\n",
       "\n",
       "    .dataframe thead th {\n",
       "        text-align: right;\n",
       "    }\n",
       "</style>\n",
       "<table border=\"1\" class=\"dataframe\">\n",
       "  <thead>\n",
       "    <tr style=\"text-align: right;\">\n",
       "      <th></th>\n",
       "      <th>Time</th>\n",
       "      <th>V1</th>\n",
       "      <th>V2</th>\n",
       "      <th>V3</th>\n",
       "      <th>V4</th>\n",
       "      <th>V5</th>\n",
       "      <th>V6</th>\n",
       "      <th>V7</th>\n",
       "      <th>V8</th>\n",
       "      <th>V9</th>\n",
       "      <th>...</th>\n",
       "      <th>V21</th>\n",
       "      <th>V22</th>\n",
       "      <th>V23</th>\n",
       "      <th>V24</th>\n",
       "      <th>V25</th>\n",
       "      <th>V26</th>\n",
       "      <th>V27</th>\n",
       "      <th>V28</th>\n",
       "      <th>Amount</th>\n",
       "      <th>Class</th>\n",
       "    </tr>\n",
       "  </thead>\n",
       "  <tbody>\n",
       "    <tr>\n",
       "      <th>220312</th>\n",
       "      <td>142113.0</td>\n",
       "      <td>-2.482558</td>\n",
       "      <td>0.843367</td>\n",
       "      <td>-1.735831</td>\n",
       "      <td>-3.081871</td>\n",
       "      <td>1.489598</td>\n",
       "      <td>-1.696637</td>\n",
       "      <td>2.145010</td>\n",
       "      <td>-1.493194</td>\n",
       "      <td>1.701447</td>\n",
       "      <td>...</td>\n",
       "      <td>0.280815</td>\n",
       "      <td>1.464156</td>\n",
       "      <td>-0.497901</td>\n",
       "      <td>0.707817</td>\n",
       "      <td>0.898071</td>\n",
       "      <td>-0.598490</td>\n",
       "      <td>-2.392776</td>\n",
       "      <td>-0.248504</td>\n",
       "      <td>15.86</td>\n",
       "      <td>0</td>\n",
       "    </tr>\n",
       "    <tr>\n",
       "      <th>37970</th>\n",
       "      <td>39190.0</td>\n",
       "      <td>0.038269</td>\n",
       "      <td>-0.032895</td>\n",
       "      <td>0.780151</td>\n",
       "      <td>0.868412</td>\n",
       "      <td>-0.159845</td>\n",
       "      <td>-0.069602</td>\n",
       "      <td>0.907196</td>\n",
       "      <td>-0.347921</td>\n",
       "      <td>-2.172300</td>\n",
       "      <td>...</td>\n",
       "      <td>-0.519832</td>\n",
       "      <td>-1.136361</td>\n",
       "      <td>0.482228</td>\n",
       "      <td>-0.085277</td>\n",
       "      <td>-0.595712</td>\n",
       "      <td>-0.566736</td>\n",
       "      <td>-0.087440</td>\n",
       "      <td>-0.149405</td>\n",
       "      <td>150.00</td>\n",
       "      <td>0</td>\n",
       "    </tr>\n",
       "    <tr>\n",
       "      <th>122853</th>\n",
       "      <td>76710.0</td>\n",
       "      <td>1.174468</td>\n",
       "      <td>0.068056</td>\n",
       "      <td>0.481259</td>\n",
       "      <td>0.465722</td>\n",
       "      <td>-0.338737</td>\n",
       "      <td>-0.224888</td>\n",
       "      <td>-0.198890</td>\n",
       "      <td>0.146799</td>\n",
       "      <td>-0.041093</td>\n",
       "      <td>...</td>\n",
       "      <td>-0.191990</td>\n",
       "      <td>-0.613416</td>\n",
       "      <td>0.167802</td>\n",
       "      <td>-0.019380</td>\n",
       "      <td>0.075380</td>\n",
       "      <td>0.110924</td>\n",
       "      <td>-0.023945</td>\n",
       "      <td>0.002812</td>\n",
       "      <td>1.29</td>\n",
       "      <td>0</td>\n",
       "    </tr>\n",
       "    <tr>\n",
       "      <th>109066</th>\n",
       "      <td>71196.0</td>\n",
       "      <td>-1.506705</td>\n",
       "      <td>1.294814</td>\n",
       "      <td>0.994589</td>\n",
       "      <td>0.186209</td>\n",
       "      <td>-0.774640</td>\n",
       "      <td>-0.535005</td>\n",
       "      <td>-0.181586</td>\n",
       "      <td>0.965866</td>\n",
       "      <td>-0.532941</td>\n",
       "      <td>...</td>\n",
       "      <td>-0.024159</td>\n",
       "      <td>-0.190428</td>\n",
       "      <td>-0.014327</td>\n",
       "      <td>0.561772</td>\n",
       "      <td>-0.050233</td>\n",
       "      <td>0.201950</td>\n",
       "      <td>-0.058309</td>\n",
       "      <td>0.000959</td>\n",
       "      <td>7.99</td>\n",
       "      <td>0</td>\n",
       "    </tr>\n",
       "    <tr>\n",
       "      <th>86335</th>\n",
       "      <td>61185.0</td>\n",
       "      <td>-0.819806</td>\n",
       "      <td>-0.494530</td>\n",
       "      <td>1.620275</td>\n",
       "      <td>-0.770524</td>\n",
       "      <td>-1.119463</td>\n",
       "      <td>0.116400</td>\n",
       "      <td>0.680024</td>\n",
       "      <td>0.218807</td>\n",
       "      <td>1.028327</td>\n",
       "      <td>...</td>\n",
       "      <td>-0.042879</td>\n",
       "      <td>-0.432128</td>\n",
       "      <td>0.465408</td>\n",
       "      <td>-0.145128</td>\n",
       "      <td>-0.542213</td>\n",
       "      <td>0.752088</td>\n",
       "      <td>-0.009115</td>\n",
       "      <td>0.149992</td>\n",
       "      <td>222.00</td>\n",
       "      <td>0</td>\n",
       "    </tr>\n",
       "  </tbody>\n",
       "</table>\n",
       "<p>5 rows × 31 columns</p>\n",
       "</div>"
      ],
      "text/plain": [
       "            Time        V1        V2        V3        V4        V5        V6  \\\n",
       "220312  142113.0 -2.482558  0.843367 -1.735831 -3.081871  1.489598 -1.696637   \n",
       "37970    39190.0  0.038269 -0.032895  0.780151  0.868412 -0.159845 -0.069602   \n",
       "122853   76710.0  1.174468  0.068056  0.481259  0.465722 -0.338737 -0.224888   \n",
       "109066   71196.0 -1.506705  1.294814  0.994589  0.186209 -0.774640 -0.535005   \n",
       "86335    61185.0 -0.819806 -0.494530  1.620275 -0.770524 -1.119463  0.116400   \n",
       "\n",
       "              V7        V8        V9  ...       V21       V22       V23  \\\n",
       "220312  2.145010 -1.493194  1.701447  ...  0.280815  1.464156 -0.497901   \n",
       "37970   0.907196 -0.347921 -2.172300  ... -0.519832 -1.136361  0.482228   \n",
       "122853 -0.198890  0.146799 -0.041093  ... -0.191990 -0.613416  0.167802   \n",
       "109066 -0.181586  0.965866 -0.532941  ... -0.024159 -0.190428 -0.014327   \n",
       "86335   0.680024  0.218807  1.028327  ... -0.042879 -0.432128  0.465408   \n",
       "\n",
       "             V24       V25       V26       V27       V28  Amount  Class  \n",
       "220312  0.707817  0.898071 -0.598490 -2.392776 -0.248504   15.86      0  \n",
       "37970  -0.085277 -0.595712 -0.566736 -0.087440 -0.149405  150.00      0  \n",
       "122853 -0.019380  0.075380  0.110924 -0.023945  0.002812    1.29      0  \n",
       "109066  0.561772 -0.050233  0.201950 -0.058309  0.000959    7.99      0  \n",
       "86335  -0.145128 -0.542213  0.752088 -0.009115  0.149992  222.00      0  \n",
       "\n",
       "[5 rows x 31 columns]"
      ]
     },
     "execution_count": 12,
     "metadata": {},
     "output_type": "execute_result"
    }
   ],
   "source": [
    "new_dataset = pd.concat([legit_sample, fraud], axis=0)\n",
    "new_dataset.head()"
   ]
  },
  {
   "cell_type": "code",
   "execution_count": 13,
   "id": "225c77bd-92f6-487f-827d-d43a228797bd",
   "metadata": {},
   "outputs": [
    {
     "data": {
      "text/plain": [
       "Class\n",
       "0    492\n",
       "1    492\n",
       "Name: count, dtype: int64"
      ]
     },
     "execution_count": 13,
     "metadata": {},
     "output_type": "execute_result"
    }
   ],
   "source": [
    "new_dataset['Class'].value_counts()"
   ]
  },
  {
   "cell_type": "code",
   "execution_count": 14,
   "id": "0cfbbe08-2b08-4078-ae60-f08924e9ad23",
   "metadata": {},
   "outputs": [
    {
     "data": {
      "text/html": [
       "<div>\n",
       "<style scoped>\n",
       "    .dataframe tbody tr th:only-of-type {\n",
       "        vertical-align: middle;\n",
       "    }\n",
       "\n",
       "    .dataframe tbody tr th {\n",
       "        vertical-align: top;\n",
       "    }\n",
       "\n",
       "    .dataframe thead th {\n",
       "        text-align: right;\n",
       "    }\n",
       "</style>\n",
       "<table border=\"1\" class=\"dataframe\">\n",
       "  <thead>\n",
       "    <tr style=\"text-align: right;\">\n",
       "      <th></th>\n",
       "      <th>Time</th>\n",
       "      <th>V1</th>\n",
       "      <th>V2</th>\n",
       "      <th>V3</th>\n",
       "      <th>V4</th>\n",
       "      <th>V5</th>\n",
       "      <th>V6</th>\n",
       "      <th>V7</th>\n",
       "      <th>V8</th>\n",
       "      <th>V9</th>\n",
       "      <th>...</th>\n",
       "      <th>V20</th>\n",
       "      <th>V21</th>\n",
       "      <th>V22</th>\n",
       "      <th>V23</th>\n",
       "      <th>V24</th>\n",
       "      <th>V25</th>\n",
       "      <th>V26</th>\n",
       "      <th>V27</th>\n",
       "      <th>V28</th>\n",
       "      <th>Amount</th>\n",
       "    </tr>\n",
       "    <tr>\n",
       "      <th>Class</th>\n",
       "      <th></th>\n",
       "      <th></th>\n",
       "      <th></th>\n",
       "      <th></th>\n",
       "      <th></th>\n",
       "      <th></th>\n",
       "      <th></th>\n",
       "      <th></th>\n",
       "      <th></th>\n",
       "      <th></th>\n",
       "      <th></th>\n",
       "      <th></th>\n",
       "      <th></th>\n",
       "      <th></th>\n",
       "      <th></th>\n",
       "      <th></th>\n",
       "      <th></th>\n",
       "      <th></th>\n",
       "      <th></th>\n",
       "      <th></th>\n",
       "      <th></th>\n",
       "    </tr>\n",
       "  </thead>\n",
       "  <tbody>\n",
       "    <tr>\n",
       "      <th>0</th>\n",
       "      <td>95390.886179</td>\n",
       "      <td>-0.079933</td>\n",
       "      <td>-0.144809</td>\n",
       "      <td>0.037627</td>\n",
       "      <td>-0.016066</td>\n",
       "      <td>-0.004019</td>\n",
       "      <td>-0.030804</td>\n",
       "      <td>0.007917</td>\n",
       "      <td>0.011691</td>\n",
       "      <td>0.045612</td>\n",
       "      <td>...</td>\n",
       "      <td>-0.075722</td>\n",
       "      <td>0.013405</td>\n",
       "      <td>0.064772</td>\n",
       "      <td>-0.037641</td>\n",
       "      <td>0.024058</td>\n",
       "      <td>0.023686</td>\n",
       "      <td>-0.047903</td>\n",
       "      <td>0.000099</td>\n",
       "      <td>0.023314</td>\n",
       "      <td>96.613801</td>\n",
       "    </tr>\n",
       "    <tr>\n",
       "      <th>1</th>\n",
       "      <td>80746.806911</td>\n",
       "      <td>-4.771948</td>\n",
       "      <td>3.623778</td>\n",
       "      <td>-7.033281</td>\n",
       "      <td>4.542029</td>\n",
       "      <td>-3.151225</td>\n",
       "      <td>-1.397737</td>\n",
       "      <td>-5.568731</td>\n",
       "      <td>0.570636</td>\n",
       "      <td>-2.581123</td>\n",
       "      <td>...</td>\n",
       "      <td>0.372319</td>\n",
       "      <td>0.713588</td>\n",
       "      <td>0.014049</td>\n",
       "      <td>-0.040308</td>\n",
       "      <td>-0.105130</td>\n",
       "      <td>0.041449</td>\n",
       "      <td>0.051648</td>\n",
       "      <td>0.170575</td>\n",
       "      <td>0.075667</td>\n",
       "      <td>122.211321</td>\n",
       "    </tr>\n",
       "  </tbody>\n",
       "</table>\n",
       "<p>2 rows × 30 columns</p>\n",
       "</div>"
      ],
      "text/plain": [
       "               Time        V1        V2        V3        V4        V5  \\\n",
       "Class                                                                   \n",
       "0      95390.886179 -0.079933 -0.144809  0.037627 -0.016066 -0.004019   \n",
       "1      80746.806911 -4.771948  3.623778 -7.033281  4.542029 -3.151225   \n",
       "\n",
       "             V6        V7        V8        V9  ...       V20       V21  \\\n",
       "Class                                          ...                       \n",
       "0     -0.030804  0.007917  0.011691  0.045612  ... -0.075722  0.013405   \n",
       "1     -1.397737 -5.568731  0.570636 -2.581123  ...  0.372319  0.713588   \n",
       "\n",
       "            V22       V23       V24       V25       V26       V27       V28  \\\n",
       "Class                                                                         \n",
       "0      0.064772 -0.037641  0.024058  0.023686 -0.047903  0.000099  0.023314   \n",
       "1      0.014049 -0.040308 -0.105130  0.041449  0.051648  0.170575  0.075667   \n",
       "\n",
       "           Amount  \n",
       "Class              \n",
       "0       96.613801  \n",
       "1      122.211321  \n",
       "\n",
       "[2 rows x 30 columns]"
      ]
     },
     "execution_count": 14,
     "metadata": {},
     "output_type": "execute_result"
    }
   ],
   "source": [
    "new_dataset.groupby('Class').mean()"
   ]
  },
  {
   "cell_type": "markdown",
   "id": "5e4f0cf4-e7e0-4e2a-a35b-11ec5939a0c0",
   "metadata": {},
   "source": [
    "#### Splitting the data into Features & Targets"
   ]
  },
  {
   "cell_type": "code",
   "execution_count": 15,
   "id": "5c467a58-9fc8-45a0-b7bc-dab3d42d1c63",
   "metadata": {},
   "outputs": [],
   "source": [
    "X = new_dataset.drop(columns='Class', axis=1)\n",
    "Y = new_dataset['Class']"
   ]
  },
  {
   "cell_type": "code",
   "execution_count": 16,
   "id": "a34a58d5-e4d0-4a72-8ee5-fe65382da766",
   "metadata": {},
   "outputs": [
    {
     "name": "stdout",
     "output_type": "stream",
     "text": [
      "            Time        V1        V2        V3        V4        V5        V6  \\\n",
      "220312  142113.0 -2.482558  0.843367 -1.735831 -3.081871  1.489598 -1.696637   \n",
      "37970    39190.0  0.038269 -0.032895  0.780151  0.868412 -0.159845 -0.069602   \n",
      "122853   76710.0  1.174468  0.068056  0.481259  0.465722 -0.338737 -0.224888   \n",
      "109066   71196.0 -1.506705  1.294814  0.994589  0.186209 -0.774640 -0.535005   \n",
      "86335    61185.0 -0.819806 -0.494530  1.620275 -0.770524 -1.119463  0.116400   \n",
      "...          ...       ...       ...       ...       ...       ...       ...   \n",
      "279863  169142.0 -1.927883  1.125653 -4.518331  1.749293 -1.566487 -2.010494   \n",
      "280143  169347.0  1.378559  1.289381 -5.004247  1.411850  0.442581 -1.326536   \n",
      "280149  169351.0 -0.676143  1.126366 -2.213700  0.468308 -1.120541 -0.003346   \n",
      "281144  169966.0 -3.113832  0.585864 -5.399730  1.817092 -0.840618 -2.943548   \n",
      "281674  170348.0  1.991976  0.158476 -2.583441  0.408670  1.151147 -0.096695   \n",
      "\n",
      "              V7        V8        V9  ...       V20       V21       V22  \\\n",
      "220312  2.145010 -1.493194  1.701447  ... -0.772472  0.280815  1.464156   \n",
      "37970   0.907196 -0.347921 -2.172300  ...  0.164166 -0.519832 -1.136361   \n",
      "122853 -0.198890  0.146799 -0.041093  ... -0.189839 -0.191990 -0.613416   \n",
      "109066 -0.181586  0.965866 -0.532941  ... -0.159029 -0.024159 -0.190428   \n",
      "86335   0.680024  0.218807  1.028327  ...  0.225239 -0.042879 -0.432128   \n",
      "...          ...       ...       ...  ...       ...       ...       ...   \n",
      "279863 -0.882850  0.697211 -2.064945  ...  1.252967  0.778584 -0.319189   \n",
      "280143 -1.413170  0.248525 -1.127396  ...  0.226138  0.370612  0.028234   \n",
      "280149 -2.234739  1.210158 -0.652250  ...  0.247968  0.751826  0.834108   \n",
      "281144 -2.208002  1.058733 -1.632333  ...  0.306271  0.583276 -0.269209   \n",
      "281674  0.223050 -0.068384  0.577829  ... -0.017652 -0.164350 -0.295135   \n",
      "\n",
      "             V23       V24       V25       V26       V27       V28  Amount  \n",
      "220312 -0.497901  0.707817  0.898071 -0.598490 -2.392776 -0.248504   15.86  \n",
      "37970   0.482228 -0.085277 -0.595712 -0.566736 -0.087440 -0.149405  150.00  \n",
      "122853  0.167802 -0.019380  0.075380  0.110924 -0.023945  0.002812    1.29  \n",
      "109066 -0.014327  0.561772 -0.050233  0.201950 -0.058309  0.000959    7.99  \n",
      "86335   0.465408 -0.145128 -0.542213  0.752088 -0.009115  0.149992  222.00  \n",
      "...          ...       ...       ...       ...       ...       ...     ...  \n",
      "279863  0.639419 -0.294885  0.537503  0.788395  0.292680  0.147968  390.00  \n",
      "280143 -0.145640 -0.081049  0.521875  0.739467  0.389152  0.186637    0.76  \n",
      "280149  0.190944  0.032070 -0.739695  0.471111  0.385107  0.194361   77.89  \n",
      "281144 -0.456108 -0.183659 -0.328168  0.606116  0.884876 -0.253700  245.00  \n",
      "281674 -0.072173 -0.450261  0.313267 -0.289617  0.002988 -0.015309   42.53  \n",
      "\n",
      "[984 rows x 30 columns]\n"
     ]
    }
   ],
   "source": [
    "print(X)"
   ]
  },
  {
   "cell_type": "code",
   "execution_count": 17,
   "id": "dab8e571-23a1-4b81-b657-1ba13b3316c9",
   "metadata": {},
   "outputs": [
    {
     "name": "stdout",
     "output_type": "stream",
     "text": [
      "220312    0\n",
      "37970     0\n",
      "122853    0\n",
      "109066    0\n",
      "86335     0\n",
      "         ..\n",
      "279863    1\n",
      "280143    1\n",
      "280149    1\n",
      "281144    1\n",
      "281674    1\n",
      "Name: Class, Length: 984, dtype: int64\n"
     ]
    }
   ],
   "source": [
    "print(Y)"
   ]
  },
  {
   "cell_type": "markdown",
   "id": "5c02b6af-aabe-451e-b122-b00b956b4fd0",
   "metadata": {},
   "source": [
    "#### Splitting the data into Testing and Training Data"
   ]
  },
  {
   "cell_type": "code",
   "execution_count": 18,
   "id": "507cd730-491d-480d-b5c7-9f06f9994b36",
   "metadata": {},
   "outputs": [],
   "source": [
    "X_train, X_test, Y_train, Y_test = train_test_split(X, Y, test_size=0.2, stratify=Y, random_state=2)"
   ]
  },
  {
   "cell_type": "code",
   "execution_count": 19,
   "id": "f737afc9-52e3-435b-8e9d-f180e138ef75",
   "metadata": {},
   "outputs": [
    {
     "name": "stdout",
     "output_type": "stream",
     "text": [
      "(984, 30) (787, 30) (197, 30)\n",
      "(984,) (787,) (197,)\n"
     ]
    }
   ],
   "source": [
    "print(X.shape, X_train.shape, X_test.shape)\n",
    "print(Y.shape, Y_train.shape, Y_test.shape)"
   ]
  },
  {
   "cell_type": "markdown",
   "id": "8d969713-28d8-4bc7-af59-164af81f5944",
   "metadata": {},
   "source": [
    "### Model Training"
   ]
  },
  {
   "cell_type": "markdown",
   "id": "7fb0f9ea-e928-439e-b2a7-7fdc83ce223e",
   "metadata": {},
   "source": [
    "For this project, we are going to be using a Logistic Regression Model"
   ]
  },
  {
   "cell_type": "code",
   "execution_count": 20,
   "id": "a39a7234-9421-4e00-9736-7b58f48dd141",
   "metadata": {},
   "outputs": [],
   "source": [
    "model = LogisticRegression()"
   ]
  },
  {
   "cell_type": "markdown",
   "id": "3d2f4efd-8fa1-4724-a4df-1a4f042912a8",
   "metadata": {},
   "source": [
    "Training the Logic Regression Model with Training Data"
   ]
  },
  {
   "cell_type": "code",
   "execution_count": 21,
   "id": "1ae5cfe1-c874-43ef-aab1-57ce2451d451",
   "metadata": {},
   "outputs": [
    {
     "name": "stderr",
     "output_type": "stream",
     "text": [
      "/Users/brihan/.local/share/virtualenvs/CreditCardChecker-gxXgn4I1/lib/python3.11/site-packages/sklearn/linear_model/_logistic.py:460: ConvergenceWarning: lbfgs failed to converge (status=1):\n",
      "STOP: TOTAL NO. of ITERATIONS REACHED LIMIT.\n",
      "\n",
      "Increase the number of iterations (max_iter) or scale the data as shown in:\n",
      "    https://scikit-learn.org/stable/modules/preprocessing.html\n",
      "Please also refer to the documentation for alternative solver options:\n",
      "    https://scikit-learn.org/stable/modules/linear_model.html#logistic-regression\n",
      "  n_iter_i = _check_optimize_result(\n"
     ]
    },
    {
     "data": {
      "text/html": [
       "<style>#sk-container-id-1 {color: black;}#sk-container-id-1 pre{padding: 0;}#sk-container-id-1 div.sk-toggleable {background-color: white;}#sk-container-id-1 label.sk-toggleable__label {cursor: pointer;display: block;width: 100%;margin-bottom: 0;padding: 0.3em;box-sizing: border-box;text-align: center;}#sk-container-id-1 label.sk-toggleable__label-arrow:before {content: \"▸\";float: left;margin-right: 0.25em;color: #696969;}#sk-container-id-1 label.sk-toggleable__label-arrow:hover:before {color: black;}#sk-container-id-1 div.sk-estimator:hover label.sk-toggleable__label-arrow:before {color: black;}#sk-container-id-1 div.sk-toggleable__content {max-height: 0;max-width: 0;overflow: hidden;text-align: left;background-color: #f0f8ff;}#sk-container-id-1 div.sk-toggleable__content pre {margin: 0.2em;color: black;border-radius: 0.25em;background-color: #f0f8ff;}#sk-container-id-1 input.sk-toggleable__control:checked~div.sk-toggleable__content {max-height: 200px;max-width: 100%;overflow: auto;}#sk-container-id-1 input.sk-toggleable__control:checked~label.sk-toggleable__label-arrow:before {content: \"▾\";}#sk-container-id-1 div.sk-estimator input.sk-toggleable__control:checked~label.sk-toggleable__label {background-color: #d4ebff;}#sk-container-id-1 div.sk-label input.sk-toggleable__control:checked~label.sk-toggleable__label {background-color: #d4ebff;}#sk-container-id-1 input.sk-hidden--visually {border: 0;clip: rect(1px 1px 1px 1px);clip: rect(1px, 1px, 1px, 1px);height: 1px;margin: -1px;overflow: hidden;padding: 0;position: absolute;width: 1px;}#sk-container-id-1 div.sk-estimator {font-family: monospace;background-color: #f0f8ff;border: 1px dotted black;border-radius: 0.25em;box-sizing: border-box;margin-bottom: 0.5em;}#sk-container-id-1 div.sk-estimator:hover {background-color: #d4ebff;}#sk-container-id-1 div.sk-parallel-item::after {content: \"\";width: 100%;border-bottom: 1px solid gray;flex-grow: 1;}#sk-container-id-1 div.sk-label:hover label.sk-toggleable__label {background-color: #d4ebff;}#sk-container-id-1 div.sk-serial::before {content: \"\";position: absolute;border-left: 1px solid gray;box-sizing: border-box;top: 0;bottom: 0;left: 50%;z-index: 0;}#sk-container-id-1 div.sk-serial {display: flex;flex-direction: column;align-items: center;background-color: white;padding-right: 0.2em;padding-left: 0.2em;position: relative;}#sk-container-id-1 div.sk-item {position: relative;z-index: 1;}#sk-container-id-1 div.sk-parallel {display: flex;align-items: stretch;justify-content: center;background-color: white;position: relative;}#sk-container-id-1 div.sk-item::before, #sk-container-id-1 div.sk-parallel-item::before {content: \"\";position: absolute;border-left: 1px solid gray;box-sizing: border-box;top: 0;bottom: 0;left: 50%;z-index: -1;}#sk-container-id-1 div.sk-parallel-item {display: flex;flex-direction: column;z-index: 1;position: relative;background-color: white;}#sk-container-id-1 div.sk-parallel-item:first-child::after {align-self: flex-end;width: 50%;}#sk-container-id-1 div.sk-parallel-item:last-child::after {align-self: flex-start;width: 50%;}#sk-container-id-1 div.sk-parallel-item:only-child::after {width: 0;}#sk-container-id-1 div.sk-dashed-wrapped {border: 1px dashed gray;margin: 0 0.4em 0.5em 0.4em;box-sizing: border-box;padding-bottom: 0.4em;background-color: white;}#sk-container-id-1 div.sk-label label {font-family: monospace;font-weight: bold;display: inline-block;line-height: 1.2em;}#sk-container-id-1 div.sk-label-container {text-align: center;}#sk-container-id-1 div.sk-container {/* jupyter's `normalize.less` sets `[hidden] { display: none; }` but bootstrap.min.css set `[hidden] { display: none !important; }` so we also need the `!important` here to be able to override the default hidden behavior on the sphinx rendered scikit-learn.org. See: https://github.com/scikit-learn/scikit-learn/issues/21755 */display: inline-block !important;position: relative;}#sk-container-id-1 div.sk-text-repr-fallback {display: none;}</style><div id=\"sk-container-id-1\" class=\"sk-top-container\"><div class=\"sk-text-repr-fallback\"><pre>LogisticRegression()</pre><b>In a Jupyter environment, please rerun this cell to show the HTML representation or trust the notebook. <br />On GitHub, the HTML representation is unable to render, please try loading this page with nbviewer.org.</b></div><div class=\"sk-container\" hidden><div class=\"sk-item\"><div class=\"sk-estimator sk-toggleable\"><input class=\"sk-toggleable__control sk-hidden--visually\" id=\"sk-estimator-id-1\" type=\"checkbox\" checked><label for=\"sk-estimator-id-1\" class=\"sk-toggleable__label sk-toggleable__label-arrow\">LogisticRegression</label><div class=\"sk-toggleable__content\"><pre>LogisticRegression()</pre></div></div></div></div></div>"
      ],
      "text/plain": [
       "LogisticRegression()"
      ]
     },
     "execution_count": 21,
     "metadata": {},
     "output_type": "execute_result"
    }
   ],
   "source": [
    "model.fit(X_train, Y_train)"
   ]
  },
  {
   "cell_type": "markdown",
   "id": "495db589-1b91-4f6c-b446-7c7132755b82",
   "metadata": {},
   "source": [
    "### Model Evaluation"
   ]
  },
  {
   "cell_type": "markdown",
   "id": "f59b3e47-7242-410a-b282-2a43fe85a699",
   "metadata": {},
   "source": [
    "#### Getting Accuracies"
   ]
  },
  {
   "cell_type": "markdown",
   "id": "9f7f2398-4052-4c82-b424-fac6367588e8",
   "metadata": {},
   "source": [
    "Accuracy on training data"
   ]
  },
  {
   "cell_type": "code",
   "execution_count": 22,
   "id": "343b6276-2882-4556-a025-7be8de2f08d2",
   "metadata": {},
   "outputs": [],
   "source": [
    "X_train_prediction = model.predict(X_train)\n",
    "training_data_accuracy = accuracy_score(X_train_prediction, Y_train)"
   ]
  },
  {
   "cell_type": "code",
   "execution_count": 23,
   "id": "9e0ef71b-c8ee-4996-86a4-d7aeba2fff3c",
   "metadata": {},
   "outputs": [
    {
     "name": "stdout",
     "output_type": "stream",
     "text": [
      "0.940279542566709\n"
     ]
    }
   ],
   "source": [
    "print(training_data_accuracy)"
   ]
  },
  {
   "cell_type": "markdown",
   "id": "4ef4deba-07c3-46d8-a721-24d75f80dc36",
   "metadata": {},
   "source": [
    "Accuracy on test data"
   ]
  },
  {
   "cell_type": "code",
   "execution_count": 24,
   "id": "f7c2f260-19f6-4672-a5d1-3b2d85d6d41e",
   "metadata": {},
   "outputs": [],
   "source": [
    "X_test_prediction = model.predict(X_test)\n",
    "test_data_accuracy = accuracy_score(X_test_prediction, Y_test)"
   ]
  },
  {
   "cell_type": "code",
   "execution_count": 25,
   "id": "ae6af58d-8d95-4f61-882c-e45f8f4c099f",
   "metadata": {},
   "outputs": [
    {
     "name": "stdout",
     "output_type": "stream",
     "text": [
      "0.9187817258883249\n"
     ]
    }
   ],
   "source": [
    "print(test_data_accuracy)"
   ]
  },
  {
   "cell_type": "markdown",
   "id": "1d053fee-f447-4648-8a20-37d1de1fe91e",
   "metadata": {},
   "source": [
    "#### Confusion Matrix"
   ]
  },
  {
   "cell_type": "code",
   "execution_count": 26,
   "id": "0fd9106b-36b8-43ab-a0a9-898b99598e01",
   "metadata": {},
   "outputs": [
    {
     "data": {
      "text/html": [
       "<div>\n",
       "<style scoped>\n",
       "    .dataframe tbody tr th:only-of-type {\n",
       "        vertical-align: middle;\n",
       "    }\n",
       "\n",
       "    .dataframe tbody tr th {\n",
       "        vertical-align: top;\n",
       "    }\n",
       "\n",
       "    .dataframe thead th {\n",
       "        text-align: right;\n",
       "    }\n",
       "</style>\n",
       "<table border=\"1\" class=\"dataframe\">\n",
       "  <thead>\n",
       "    <tr style=\"text-align: right;\">\n",
       "      <th>Predicted</th>\n",
       "      <th>0</th>\n",
       "      <th>1</th>\n",
       "      <th>All</th>\n",
       "    </tr>\n",
       "    <tr>\n",
       "      <th>Actual</th>\n",
       "      <th></th>\n",
       "      <th></th>\n",
       "      <th></th>\n",
       "    </tr>\n",
       "  </thead>\n",
       "  <tbody>\n",
       "    <tr>\n",
       "      <th>0</th>\n",
       "      <td>95</td>\n",
       "      <td>4</td>\n",
       "      <td>99</td>\n",
       "    </tr>\n",
       "    <tr>\n",
       "      <th>1</th>\n",
       "      <td>12</td>\n",
       "      <td>86</td>\n",
       "      <td>98</td>\n",
       "    </tr>\n",
       "    <tr>\n",
       "      <th>All</th>\n",
       "      <td>107</td>\n",
       "      <td>90</td>\n",
       "      <td>197</td>\n",
       "    </tr>\n",
       "  </tbody>\n",
       "</table>\n",
       "</div>"
      ],
      "text/plain": [
       "Predicted    0   1  All\n",
       "Actual                 \n",
       "0           95   4   99\n",
       "1           12  86   98\n",
       "All        107  90  197"
      ]
     },
     "execution_count": 26,
     "metadata": {},
     "output_type": "execute_result"
    }
   ],
   "source": [
    "confusion_matrix = pd.crosstab(Y_test, X_test_prediction, rownames=['Actual'], colnames=['Predicted'], margins=True)\n",
    "confusion_matrix"
   ]
  },
  {
   "cell_type": "markdown",
   "id": "ea8b485b-96c6-4b57-94d7-cca5f5ca3bce",
   "metadata": {},
   "source": [
    "**Notably**: Our confusion matrix is 'flipped'. We are predicting for 'fraudulent', so our *True Positive* value will be True = fraudulent and Prediction = fraudulent."
   ]
  },
  {
   "cell_type": "markdown",
   "id": "b9473f8a-d4f4-4d29-aece-4ffa325feb69",
   "metadata": {},
   "source": [
    "## Discussion"
   ]
  },
  {
   "cell_type": "markdown",
   "id": "79b1ef85-485e-4f90-b08f-8993b38ba062",
   "metadata": {},
   "source": [
    "In this section, I will interpret and discuss the results obtained from our experiment, which aimed to develop a model for detecting fraudulent transactions."
   ]
  },
  {
   "cell_type": "markdown",
   "id": "456f5ddf-9edc-4880-a010-7762416ddc7f",
   "metadata": {},
   "source": [
    "### Model Performance Metrics"
   ]
  },
  {
   "cell_type": "markdown",
   "id": "edc39d9a-e2e2-4d4e-95e3-43eff20e72d3",
   "metadata": {},
   "source": [
    "1. Accuracy on Training Data:\n",
    "The accuracy achieved on the training data is approximately 94.16%. This metric measures the proportion of correctly classified instances within the training dataset. A high training accuracy suggests that the model has learned the training data well.\n",
    "2. Accuracy on Test Data:\n",
    "The accuracy achieved on the test data is approximately 93.40%. This metric indicates the proportion of correctly classified instances within the unseen test dataset. It is crucial to evaluate model performance on unseen data to assess its generalization capabilities."
   ]
  },
  {
   "cell_type": "markdown",
   "id": "4ff83506-6390-4de2-a51d-6627de95e0c3",
   "metadata": {},
   "source": [
    "### Confusion Matrix Analysis"
   ]
  },
  {
   "cell_type": "markdown",
   "id": "68e747ea-ed58-43c7-a000-3a3fa0a334a2",
   "metadata": {},
   "source": [
    "I also present the confusion matrix to provide a more detailed understanding of our model's performance. The confusion matrix is structured as follows:"
   ]
  },
  {
   "cell_type": "code",
   "execution_count": 27,
   "id": "109a5543-c8ae-4afa-92cd-8bbea88c49a8",
   "metadata": {},
   "outputs": [
    {
     "data": {
      "text/html": [
       "<div>\n",
       "<style scoped>\n",
       "    .dataframe tbody tr th:only-of-type {\n",
       "        vertical-align: middle;\n",
       "    }\n",
       "\n",
       "    .dataframe tbody tr th {\n",
       "        vertical-align: top;\n",
       "    }\n",
       "\n",
       "    .dataframe thead th {\n",
       "        text-align: right;\n",
       "    }\n",
       "</style>\n",
       "<table border=\"1\" class=\"dataframe\">\n",
       "  <thead>\n",
       "    <tr style=\"text-align: right;\">\n",
       "      <th>Predicted</th>\n",
       "      <th>0</th>\n",
       "      <th>1</th>\n",
       "      <th>All</th>\n",
       "    </tr>\n",
       "    <tr>\n",
       "      <th>Actual</th>\n",
       "      <th></th>\n",
       "      <th></th>\n",
       "      <th></th>\n",
       "    </tr>\n",
       "  </thead>\n",
       "  <tbody>\n",
       "    <tr>\n",
       "      <th>0</th>\n",
       "      <td>95</td>\n",
       "      <td>4</td>\n",
       "      <td>99</td>\n",
       "    </tr>\n",
       "    <tr>\n",
       "      <th>1</th>\n",
       "      <td>12</td>\n",
       "      <td>86</td>\n",
       "      <td>98</td>\n",
       "    </tr>\n",
       "    <tr>\n",
       "      <th>All</th>\n",
       "      <td>107</td>\n",
       "      <td>90</td>\n",
       "      <td>197</td>\n",
       "    </tr>\n",
       "  </tbody>\n",
       "</table>\n",
       "</div>"
      ],
      "text/plain": [
       "Predicted    0   1  All\n",
       "Actual                 \n",
       "0           95   4   99\n",
       "1           12  86   98\n",
       "All        107  90  197"
      ]
     },
     "execution_count": 27,
     "metadata": {},
     "output_type": "execute_result"
    }
   ],
   "source": [
    "confusion_matrix = pd.crosstab(Y_test, X_test_prediction, rownames=['Actual'], colnames=['Predicted'], margins=True)\n",
    "confusion_matrix"
   ]
  },
  {
   "cell_type": "markdown",
   "id": "9125be27-5945-4e08-91e3-88326dfbff0d",
   "metadata": {},
   "source": [
    "In our context:\n",
    "- Rows represent the actual labels (0 for non-fraudulent transactions and 1 for fraudulent transactions).\n",
    "- Columns represent the predicted labels (0 for non-fraudulent predictions and 1 for fraudulent predictions).\n",
    "\n",
    "***It's important to note that the confusion matrix is \"flipped\" in our context because we are primarily interested in the detection of fraudulent transactions (class 1). Therefore, our True Positive (TP) value represents cases where both the actual and predicted labels are \"fraudulent,\" indicating successful fraud detection.***\n",
    "\n",
    "Observations from the Confusion Matrix:\n",
    "- True Negatives (TN): Our model correctly predicted 95 non-fraudulent transactions as non-fraudulent.\n",
    "- False Positives (FP): The model incorrectly predicted 4 non-fraudulent transactions as fraudulent.\n",
    "- False Negatives (FN): The model incorrectly predicted 12 fraudulent transactions as non-fraudulent.\n",
    "- True Positives (TP): Our model correctly predicted 86 fraudulent transactions as fraudulent."
   ]
  },
  {
   "cell_type": "markdown",
   "id": "7e5153e1-fb54-4a18-a1bd-58d83acdbcc7",
   "metadata": {},
   "source": [
    "### Discussion of Model Performance"
   ]
  },
  {
   "cell_type": "markdown",
   "id": "3a6fcf18-37b5-4489-b54e-44160cb107f7",
   "metadata": {},
   "source": [
    "**Accuracy:**\n",
    "The achieved accuracy on both the training and test datasets is relatively high, indicating that our model is effective at classifying transactions. However, accuracy alone may not provide a complete picture, especially in cases of imbalanced datasets, where one class is significantly larger than the other. In our case, a more in-depth analysis is required because we are dealing with a fraud detection problem.\n",
    "\n",
    "**Type I and Type II Errors:** <br>\n",
    "In the context of fraud detection, Type I and Type II errors have different implications:\n",
    "\n",
    "- Type I Error (False Positives): These occur when a non-fraudulent transaction is incorrectly classified as fraudulent. While our model exhibits a relatively low number of false positives (4 cases), they are still critical as they may inconvenience legitimate customers.\n",
    "- Type II Error (False Negatives): These occur when a fraudulent transaction is incorrectly classified as non-fraudulent. Our model has a higher number of false negatives (12 cases), indicating that it fails to detect some fraudulent transactions. This is a more significant concern because it poses a potential financial risk to both customers and the institution.\n",
    "\n",
    "**Imbalanced Dataset:** <br>\n",
    "One factor contributing to the relatively high accuracy is the class imbalance in the dataset. There are more non-fraudulent transactions (class 0) than fraudulent ones (class 1). This imbalance can skew the model's predictions. To address this, we should explore methods such as oversampling, undersampling, or using different evaluation metrics tailored to imbalanced datasets (e.g., ROC AUC, precision-recall curve).\n",
    "\n",
    "**Model Improvement:** <br>\n",
    "To enhance our model's performance, several strategies can be considered:\n",
    "\n",
    "- Hyperparameter Tuning: Fine-tuning hyperparameters may improve model robustness and reduce overfitting.\n",
    "- Feature Engineering: Exploring additional features or transforming existing ones can lead to better discrimination between fraudulent and non-fraudulent transactions.\n",
    "- Ensemble Methods: Combining multiple models, such as ensemble techniques (e.g., Random Forest), can often yield improved results."
   ]
  },
  {
   "cell_type": "markdown",
   "id": "ac040a57-d47e-429c-af4f-c6afd9f23a27",
   "metadata": {},
   "source": [
    "### Conclusion"
   ]
  },
  {
   "cell_type": "markdown",
   "id": "af92ace3-878c-4141-aa41-a3b4f3db504c",
   "metadata": {},
   "source": [
    "In conclusion, while our initial model demonstrates promising results, further refinement and evaluation are necessary to address the specific challenges of fraud detection, such as class imbalance and the consequences of Type II errors. Continual monitoring and improvement of the model's performance are essential for an effective and reliable fraud detection system."
   ]
  },
  {
   "cell_type": "markdown",
   "id": "0a4500bd-43e9-4994-8360-778cbfbf11fd",
   "metadata": {},
   "source": [
    "## Works Cited"
   ]
  },
  {
   "cell_type": "markdown",
   "id": "e0e681eb-b193-4f39-a11c-c01e8631e8d9",
   "metadata": {},
   "source": [
    "- Andrea Dal Pozzolo, Olivier Caelen, Reid A. Johnson and Gianluca Bontempi. Calibrating Probability with Undersampling for Unbalanced Classification. In Symposium on Computational Intelligence and Data Mining (CIDM), IEEE, 2015\n",
    "- Dal Pozzolo, Andrea; Caelen, Olivier; Le Borgne, Yann-Ael; Waterschoot, Serge; Bontempi, Gianluca. Learned lessons in credit card fraud detection from a practitioner perspective, Expert systems with applications,41,10,4915-4928,2014, Pergamon\n",
    "- Dal Pozzolo, Andrea; Boracchi, Giacomo; Caelen, Olivier; Alippi, Cesare; Bontempi, Gianluca. Credit card fraud detection: a realistic modeling and a novel learning strategy, IEEE transactions on neural networks and learning systems,29,8,3784-3797,2018,IEEE\n",
    "- Dal Pozzolo, Andrea Adaptive Machine learning for credit card fraud detection ULB MLG PhD thesis (supervised by G. Bontempi)\n",
    "- Carcillo, Fabrizio; Dal Pozzolo, Andrea; Le Borgne, Yann-Aël; Caelen, Olivier; Mazzer, Yannis; Bontempi, Gianluca. Scarff: a scalable framework for streaming credit card fraud detection with Spark, Information fusion,41, 182-194,2018,Elsevier\n",
    "- Carcillo, Fabrizio; Le Borgne, Yann-Aël; Caelen, Olivier; Bontempi, Gianluca. Streaming active learning strategies for real-life credit card fraud detection: assessment and visualization, International Journal of Data Science and Analytics, 5,4,285-300,2018,Springer International Publishing\n",
    "- Bertrand Lebichot, Yann-Aël Le Borgne, Liyun He, Frederic Oblé, Gianluca Bontempi Deep-Learning Domain Adaptation Techniques for Credit Cards Fraud Detection, INNSBDDL 2019: Recent Advances in Big Data and Deep Learning, pp 78-88, 2019\n",
    "- Fabrizio Carcillo, Yann-Aël Le Borgne, Olivier Caelen, Frederic Oblé, Gianluca Bontempi Combining Unsupervised and Supervised Learning in Credit Card Fraud Detection Information Sciences, 2019\n",
    "- Yann-Aël Le Borgne, Gianluca Bontempi Reproducible machine Learning for Credit Card Fraud Detection - Practical Handbook\n",
    "- Bertrand Lebichot, Gianmarco Paldino, Wissam Siblini, Liyun He, Frederic Oblé, Gianluca Bontempi Incremental learning strategies for credit cards fraud detection, IInternational Journal of Data Science and Analytics"
   ]
  }
 ],
 "metadata": {
  "kernelspec": {
   "display_name": "Python 3 (ipykernel)",
   "language": "python",
   "name": "python3"
  },
  "language_info": {
   "codemirror_mode": {
    "name": "ipython",
    "version": 3
   },
   "file_extension": ".py",
   "mimetype": "text/x-python",
   "name": "python",
   "nbconvert_exporter": "python",
   "pygments_lexer": "ipython3",
   "version": "3.11.4"
  }
 },
 "nbformat": 4,
 "nbformat_minor": 5
}
